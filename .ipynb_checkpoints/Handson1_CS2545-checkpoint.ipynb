{
 "cells": [
  {
   "cell_type": "markdown",
   "metadata": {},
   "source": [
    "# Hands-on 1\n",
    "\n",
    "### CS2545 - Data Science ###\n",
    "### Winter, 2023 ###\n",
    "### UNB, Fredericton ###\n",
    "\n",
    "Please complete the following tasks per instructions provided. Please complete the following and submit this notebook (filename: handson1-lastname-firstname.ipynb) on D2L by 11:59pm, January 27. \n",
    "</br>\n",
    "</br>\n",
    "</br>\n"
   ]
  },
  {
   "cell_type": "markdown",
   "metadata": {},
   "source": [
    "**[1.]** The list *polygons_list* below contains the names of the polygons with the number sides varied from 3 to 15. For instance, Triangle is a polygon with 3 sides, Hexagon is a polygon with 6 sides.\n",
    "\n",
    "**[1.a]** Using \"list slicing\" print first 5 and last 4 entries in *polygons_list*. **[4 points]**\n",
    "\n",
    "\n",
    "**[1.b]** Write Python code that iterates over the elements of *polygons_list* and prints each element (i.e. as a string), its number of sides, and its sum of angles. **[6 points]**\n",
    "\n",
    "Example output: <br>\n",
    "Triangle: 3 -> 180 <br>\n",
    "Square: 4 -> 360 <br>\n",
    "Pentagon: 5 -> 540 <br>"
   ]
  },
  {
   "cell_type": "code",
   "execution_count": 1,
   "metadata": {},
   "outputs": [
    {
     "name": "stdout",
     "output_type": "stream",
     "text": [
      "['Triangle', 'Square', 'Pentagon', 'Hexagon']\n",
      "['Dodecagon', 'Tridecagon', 'Tetradecagon', 'Pentadecagon']\n",
      "Triangle:  3 ->  180\n",
      "Square:  4 ->  360\n",
      "Pentagon:  5 ->  540\n",
      "Hexagon:  6 ->  720\n",
      "Heptagon:  7 ->  900\n",
      "Octagon:  8 ->  1080\n",
      "Nonagon:  9 ->  1260\n",
      "Decagon:  10 ->  1440\n",
      "Hendecagon:  11 ->  1620\n",
      "Dodecagon:  12 ->  1800\n",
      "Tridecagon:  13 ->  1980\n",
      "Tetradecagon:  14 ->  2160\n",
      "Pentadecagon:  15 ->  2340\n"
     ]
    }
   ],
   "source": [
    "polygons_lst = ['Triangle', 'Square', 'Pentagon', 'Hexagon', 'Heptagon', 'Octagon', 'Nonagon', 'Decagon', 'Hendecagon', 'Dodecagon', 'Tridecagon', 'Tetradecagon', 'Pentadecagon']\n",
    "\n",
    "# write your code below\n",
    "\n",
    "# 1.a) \n",
    "\n",
    "print(polygons_lst[:4])\n",
    "print(polygons_lst[9:])\n",
    "\n",
    "\n",
    "\n",
    "# 1.b) \n",
    "sides=3\n",
    "angle=180\n",
    "\n",
    "for elem in polygons_lst:\n",
    "    \n",
    "    print(elem + \": \",sides, \"-> \",angle)\n",
    "    sides= sides+1\n",
    "    angle= angle+180\n",
    "    \n",
    "\n"
   ]
  },
  {
   "cell_type": "markdown",
   "metadata": {},
   "source": [
    "**Example code**  The following code snippet uses Python graphics library Turtle. Execute the code. There will be a pop-up window where the image will be rendered.\n",
    "\n",
    "More info about Turtle library is here: https://docs.python.org/3.8/library/turtle.html"
   ]
  },
  {
   "cell_type": "code",
   "execution_count": 2,
   "metadata": {},
   "outputs": [],
   "source": [
    "import turtle\n",
    "\n",
    "\n",
    "\n",
    "\n",
    "polygon = turtle.Turtle() \n",
    "  \n",
    "    \n",
    "side_length = 100\n",
    "angle = 360.0 / 3  \n",
    "  \n",
    "polygon.forward(side_length) \n",
    "polygon.right(angle) \n",
    "\n",
    "polygon.forward(side_length) \n",
    "polygon.right(angle) \n",
    "\n",
    "polygon.forward(side_length) \n",
    "polygon.right(angle) \n",
    "\n",
    "\n",
    "# close resources properly \n",
    "# https://stackoverflow.com/questions/7217405/turtle-graphics-not-responding\n",
    "polygon.hideturtle()\n",
    "turtle.done() \n",
    "try:\n",
    "    turtle.bye()   \n",
    "except turtle.Terminator:\n",
    "    pass"
   ]
  },
  {
   "cell_type": "markdown",
   "metadata": {},
   "source": [
    "**2.** Modify the example code above. Write code to draw a polygon with the number of sides based on user input *Sides* where *Sides* is the number of sides in the polygon to draw. Your code should do the following.\n",
    "\n",
    "First, print the name of the polygon representing the polygon with number of sides based on user input (e.g. 'Square' for number of sides as 4).\n",
    "\n",
    "Then, draw a polygon with the number of sides based on user input. **[10 points]**"
   ]
  },
  {
   "cell_type": "code",
   "execution_count": 15,
   "metadata": {},
   "outputs": [
    {
     "name": "stdout",
     "output_type": "stream",
     "text": [
      "Input Number of Sides:10\n",
      "Number of Sides = 10\n",
      "The Name of the Polygon is:  Decagon\n"
     ]
    }
   ],
   "source": [
    "import turtle\n",
    "\n",
    "polygon = turtle.Turtle() \n",
    "\n",
    "side_length = 100\n",
    "polygons_lst = ['Triangle', 'Square', 'Pentagon', 'Hexagon', 'Heptagon', 'Octagon', 'Nonagon', 'Decagon', 'Hendecagon', 'Dodecagon', 'Tridecagon', 'Tetradecagon', 'Pentadecagon']\n",
    "\n",
    "Sides = input(\"Input Number of Sides:\")\n",
    "num_sides = int(Sides)\n",
    "\n",
    "print (\"Number of Sides =\", num_sides)\n",
    "\n",
    "if num_sides not in range (3,16):\n",
    "    print (\"Out of Range\")\n",
    "else:    \n",
    "\n",
    "    # write your code below\n",
    "   \n",
    "    \n",
    "    # print the name of the polygon with the user specified number of sides\n",
    "    if num_sides==3:\n",
    "        name= polygons_lst[0]\n",
    "        \n",
    "    else:\n",
    "        sub= num_sides-3\n",
    "        name=  polygons_lst[sub]\n",
    "    \n",
    "    print (\"The Name of the Polygon is: \", name)\n",
    "   \n",
    "    if(num_sides)==3:\n",
    "            angle=180\n",
    "            \n",
    "    else:\n",
    "        angle= ((num_sides-3)*180)+180\n",
    "        angle= angle/num_sides\n",
    "        angle= 180-angle\n",
    "    # draw the polygon with the user specified number of sides\n",
    "    for x in range(num_sides+1): \n",
    "        polygon.forward(side_length)\n",
    "        polygon.right(angle)\n",
    "    \n",
    "    \n",
    "# close resources properly \n",
    "# https://stackoverflow.com/questions/7217405/turtle-graphics-not-responding\n",
    "polygon.hideturtle()\n",
    "turtle.done() \n",
    "try:\n",
    "    turtle.bye()   \n",
    "except turtle.Terminator:\n",
    "    pass"
   ]
  },
  {
   "cell_type": "code",
   "execution_count": null,
   "metadata": {},
   "outputs": [],
   "source": []
  }
 ],
 "metadata": {
  "kernelspec": {
   "display_name": "Python 3",
   "language": "python",
   "name": "python3"
  },
  "language_info": {
   "codemirror_mode": {
    "name": "ipython",
    "version": 3
   },
   "file_extension": ".py",
   "mimetype": "text/x-python",
   "name": "python",
   "nbconvert_exporter": "python",
   "pygments_lexer": "ipython3",
   "version": "3.7.4"
  }
 },
 "nbformat": 4,
 "nbformat_minor": 5
}
