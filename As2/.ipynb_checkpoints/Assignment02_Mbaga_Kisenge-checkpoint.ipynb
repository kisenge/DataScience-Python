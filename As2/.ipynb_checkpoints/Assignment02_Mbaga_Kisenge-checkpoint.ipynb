{
 "cells": [
  {
   "cell_type": "markdown",
   "metadata": {},
   "source": [
    "# Assignment 2\n",
    "\n",
    "### CS2545 - Data Science ###\n",
    "### Winter, 2023 ###\n",
    "### UNB, Fredericton ###\n",
    "\n",
    "**Notebook:** Complete the assignment and submit the .ipynb file (with filename changed to **Assignment02_LastName_FirstName.ipynb**) to D2L. <br>\n",
    "<br>\n",
    "**Deadline:** Tue, April 11, 2023 11:59 pm\n",
    "<br>\n",
    "<br>\n",
    "**Submission guidelines:** <br>\n",
    "•\tLate submissions until *Wed, April 12, 2023 11:59 pm* will be marked with a **5% penalty**. <br>\n",
    "•\tAll assignment components must be submitted via D2L. <br>\n",
    "\n",
    "**Note about plagiarism:** <br>\n",
    "Any assignments that appear to be in violation of an academic offence (**plagiarism**) will be reported to the Registrar’s Office as per UNB regulations (See section VII of UNB Undergraduate Calendar). <br>\n"
   ]
  },
  {
   "cell_type": "markdown",
   "metadata": {},
   "source": [
    "**Task and Dataset** \n",
    "\n",
    "For this assignment you will analyze Spotify datasets and perform music related analysis. You will find the following 3 files  in the datasets.zip file from D2L:\n",
    "\n",
    "- *artists.csv*\n",
    "- *albums.csv*\n",
    "- *tracks.csv*\n",
    "\n",
    "You may want to first open the files with a text editor and observe the files carefully, to get an idea about the fields in the data table. The meaning of each column label is self-explanatory."
   ]
  },
  {
   "cell_type": "code",
   "execution_count": 71,
   "metadata": {},
   "outputs": [],
   "source": [
    "import matplotlib.pyplot as plt\n",
    "import pandas as pd\n",
    "import numpy as np\n",
    "import math\n",
    "import thinkstats2\n",
    "import thinkplot\n",
    "%matplotlib inline\n"
   ]
  },
  {
   "cell_type": "markdown",
   "metadata": {},
   "source": [
    "**Q1** Load the 3 data files (mentioned above) as dataframes: *artist_df*, *album_df* and *track_df* respectively. \n",
    "\n",
    "Then, show the first 5 records of the dataframes. (**1 points**)"
   ]
  },
  {
   "cell_type": "code",
   "execution_count": 72,
   "metadata": {
    "scrolled": false
   },
   "outputs": [
    {
     "data": {
      "text/html": [
       "<div>\n",
       "<style scoped>\n",
       "    .dataframe tbody tr th:only-of-type {\n",
       "        vertical-align: middle;\n",
       "    }\n",
       "\n",
       "    .dataframe tbody tr th {\n",
       "        vertical-align: top;\n",
       "    }\n",
       "\n",
       "    .dataframe thead th {\n",
       "        text-align: right;\n",
       "    }\n",
       "</style>\n",
       "<table border=\"1\" class=\"dataframe\">\n",
       "  <thead>\n",
       "    <tr style=\"text-align: right;\">\n",
       "      <th></th>\n",
       "      <th>artist_id</th>\n",
       "      <th>artist_popularity</th>\n",
       "      <th>followers</th>\n",
       "      <th>genres</th>\n",
       "      <th>artist_name</th>\n",
       "    </tr>\n",
       "  </thead>\n",
       "  <tbody>\n",
       "    <tr>\n",
       "      <td>0</td>\n",
       "      <td>4mGnpjhqgx4RUdsIJiURdo</td>\n",
       "      <td>44</td>\n",
       "      <td>23230</td>\n",
       "      <td>['sertanejo', 'sertanejo pop', 'sertanejo trad...</td>\n",
       "      <td>Juliano Cezar</td>\n",
       "    </tr>\n",
       "    <tr>\n",
       "      <td>1</td>\n",
       "      <td>1dLnVku4VQUOLswwDFvRc9</td>\n",
       "      <td>22</td>\n",
       "      <td>313</td>\n",
       "      <td>[]</td>\n",
       "      <td>The Grenadines</td>\n",
       "    </tr>\n",
       "    <tr>\n",
       "      <td>2</td>\n",
       "      <td>6YVY310fjfUzKi8hiqR7iK</td>\n",
       "      <td>26</td>\n",
       "      <td>1596</td>\n",
       "      <td>['danish pop rock']</td>\n",
       "      <td>Gangway</td>\n",
       "    </tr>\n",
       "    <tr>\n",
       "      <td>3</td>\n",
       "      <td>2VElyouiCfoYPDJluzwJwK</td>\n",
       "      <td>31</td>\n",
       "      <td>149</td>\n",
       "      <td>['uk alternative pop']</td>\n",
       "      <td>FADES</td>\n",
       "    </tr>\n",
       "    <tr>\n",
       "      <td>4</td>\n",
       "      <td>4agVy03qW8juSysCTUOuDI</td>\n",
       "      <td>21</td>\n",
       "      <td>11</td>\n",
       "      <td>['french baroque']</td>\n",
       "      <td>Jean-Pierre Guignon</td>\n",
       "    </tr>\n",
       "  </tbody>\n",
       "</table>\n",
       "</div>"
      ],
      "text/plain": [
       "                artist_id  artist_popularity  followers  \\\n",
       "0  4mGnpjhqgx4RUdsIJiURdo                 44      23230   \n",
       "1  1dLnVku4VQUOLswwDFvRc9                 22        313   \n",
       "2  6YVY310fjfUzKi8hiqR7iK                 26       1596   \n",
       "3  2VElyouiCfoYPDJluzwJwK                 31        149   \n",
       "4  4agVy03qW8juSysCTUOuDI                 21         11   \n",
       "\n",
       "                                              genres          artist_name  \n",
       "0  ['sertanejo', 'sertanejo pop', 'sertanejo trad...        Juliano Cezar  \n",
       "1                                                 []       The Grenadines  \n",
       "2                                ['danish pop rock']              Gangway  \n",
       "3                             ['uk alternative pop']                FADES  \n",
       "4                                 ['french baroque']  Jean-Pierre Guignon  "
      ]
     },
     "execution_count": 72,
     "metadata": {},
     "output_type": "execute_result"
    }
   ],
   "source": [
    "# load artist_df  dataframe\n",
    "\n",
    "artist_df = pd.read_csv('artists.csv', delimiter=',')\n",
    "artist_df.head(5)"
   ]
  },
  {
   "cell_type": "code",
   "execution_count": 73,
   "metadata": {
    "scrolled": true
   },
   "outputs": [
    {
     "data": {
      "text/html": [
       "<div>\n",
       "<style scoped>\n",
       "    .dataframe tbody tr th:only-of-type {\n",
       "        vertical-align: middle;\n",
       "    }\n",
       "\n",
       "    .dataframe tbody tr th {\n",
       "        vertical-align: top;\n",
       "    }\n",
       "\n",
       "    .dataframe thead th {\n",
       "        text-align: right;\n",
       "    }\n",
       "</style>\n",
       "<table border=\"1\" class=\"dataframe\">\n",
       "  <thead>\n",
       "    <tr style=\"text-align: right;\">\n",
       "      <th></th>\n",
       "      <th>album_id</th>\n",
       "      <th>album_type</th>\n",
       "      <th>artist_id</th>\n",
       "      <th>album_name</th>\n",
       "      <th>release_date</th>\n",
       "      <th>release_date_precision</th>\n",
       "      <th>total_tracks</th>\n",
       "    </tr>\n",
       "  </thead>\n",
       "  <tbody>\n",
       "    <tr>\n",
       "      <td>0</td>\n",
       "      <td>1gAM7M4rBwEbSPeAQR2nx1</td>\n",
       "      <td>single</td>\n",
       "      <td>3DiDSECUqqY1AuBP8qtaIa</td>\n",
       "      <td>If I Ain't Got You EP</td>\n",
       "      <td>2/8/2019</td>\n",
       "      <td>day</td>\n",
       "      <td>6</td>\n",
       "    </tr>\n",
       "    <tr>\n",
       "      <td>1</td>\n",
       "      <td>4KfJZV7WfolYlxBzOTo66s</td>\n",
       "      <td>album</td>\n",
       "      <td>6s1pCNXcbdtQJlsnM1hRIA</td>\n",
       "      <td>Shostakovich Symphony No.5 - Four Romances on ...</td>\n",
       "      <td>3/1/2019</td>\n",
       "      <td>day</td>\n",
       "      <td>8</td>\n",
       "    </tr>\n",
       "    <tr>\n",
       "      <td>2</td>\n",
       "      <td>7nLYY7uAVUb57kpd7tZxnS</td>\n",
       "      <td>single</td>\n",
       "      <td>5YjfNaHq05WrwldRe1QSBc</td>\n",
       "      <td>Take My Bass</td>\n",
       "      <td>3/14/2019</td>\n",
       "      <td>day</td>\n",
       "      <td>1</td>\n",
       "    </tr>\n",
       "    <tr>\n",
       "      <td>3</td>\n",
       "      <td>6p20Rt4x2Qn5mUMRi1s6pj</td>\n",
       "      <td>single</td>\n",
       "      <td>2G9Vc16JCpnZmK4uGH46Fa</td>\n",
       "      <td>Hypnotizing (Are U)</td>\n",
       "      <td>11/16/2016</td>\n",
       "      <td>day</td>\n",
       "      <td>1</td>\n",
       "    </tr>\n",
       "    <tr>\n",
       "      <td>4</td>\n",
       "      <td>1XeoOqC1q7U2iyLEQJ64cu</td>\n",
       "      <td>single</td>\n",
       "      <td>2dwM9OcE4c3Ph1UBINSodx</td>\n",
       "      <td>Sunshine</td>\n",
       "      <td>7/20/2018</td>\n",
       "      <td>day</td>\n",
       "      <td>1</td>\n",
       "    </tr>\n",
       "  </tbody>\n",
       "</table>\n",
       "</div>"
      ],
      "text/plain": [
       "                 album_id album_type               artist_id  \\\n",
       "0  1gAM7M4rBwEbSPeAQR2nx1     single  3DiDSECUqqY1AuBP8qtaIa   \n",
       "1  4KfJZV7WfolYlxBzOTo66s      album  6s1pCNXcbdtQJlsnM1hRIA   \n",
       "2  7nLYY7uAVUb57kpd7tZxnS     single  5YjfNaHq05WrwldRe1QSBc   \n",
       "3  6p20Rt4x2Qn5mUMRi1s6pj     single  2G9Vc16JCpnZmK4uGH46Fa   \n",
       "4  1XeoOqC1q7U2iyLEQJ64cu     single  2dwM9OcE4c3Ph1UBINSodx   \n",
       "\n",
       "                                          album_name release_date  \\\n",
       "0                              If I Ain't Got You EP     2/8/2019   \n",
       "1  Shostakovich Symphony No.5 - Four Romances on ...     3/1/2019   \n",
       "2                                       Take My Bass    3/14/2019   \n",
       "3                                Hypnotizing (Are U)   11/16/2016   \n",
       "4                                           Sunshine    7/20/2018   \n",
       "\n",
       "  release_date_precision  total_tracks  \n",
       "0                    day             6  \n",
       "1                    day             8  \n",
       "2                    day             1  \n",
       "3                    day             1  \n",
       "4                    day             1  "
      ]
     },
     "execution_count": 73,
     "metadata": {},
     "output_type": "execute_result"
    }
   ],
   "source": [
    "# load album_df  dataframe\n",
    "album_df = pd.read_csv('albums.csv', delimiter=',')\n",
    "album_df.head(5)\n"
   ]
  },
  {
   "cell_type": "code",
   "execution_count": 74,
   "metadata": {},
   "outputs": [
    {
     "data": {
      "text/html": [
       "<div>\n",
       "<style scoped>\n",
       "    .dataframe tbody tr th:only-of-type {\n",
       "        vertical-align: middle;\n",
       "    }\n",
       "\n",
       "    .dataframe tbody tr th {\n",
       "        vertical-align: top;\n",
       "    }\n",
       "\n",
       "    .dataframe thead th {\n",
       "        text-align: right;\n",
       "    }\n",
       "</style>\n",
       "<table border=\"1\" class=\"dataframe\">\n",
       "  <thead>\n",
       "    <tr style=\"text-align: right;\">\n",
       "      <th></th>\n",
       "      <th>track_id</th>\n",
       "      <th>album_id</th>\n",
       "      <th>artists_id</th>\n",
       "      <th>popularity</th>\n",
       "      <th>acousticness</th>\n",
       "      <th>danceability</th>\n",
       "      <th>duration_ms</th>\n",
       "      <th>energy</th>\n",
       "      <th>liveness</th>\n",
       "      <th>loudness</th>\n",
       "      <th>speechiness</th>\n",
       "      <th>tempo</th>\n",
       "      <th>valence</th>\n",
       "      <th>track_name_prev</th>\n",
       "      <th>track_number</th>\n",
       "    </tr>\n",
       "  </thead>\n",
       "  <tbody>\n",
       "    <tr>\n",
       "      <td>0</td>\n",
       "      <td>5qljLQuKnNJf4F4vfxQB0V</td>\n",
       "      <td>0D3QufeCudpQANOR7luqdr</td>\n",
       "      <td>['3mxJuHRn2ZWD5OofvJtDZY']</td>\n",
       "      <td>28</td>\n",
       "      <td>0.294</td>\n",
       "      <td>0.698</td>\n",
       "      <td>235584</td>\n",
       "      <td>0.606</td>\n",
       "      <td>0.151</td>\n",
       "      <td>-7.447</td>\n",
       "      <td>0.0262</td>\n",
       "      <td>115.018</td>\n",
       "      <td>0.6220</td>\n",
       "      <td>track_14</td>\n",
       "      <td>1</td>\n",
       "    </tr>\n",
       "    <tr>\n",
       "      <td>1</td>\n",
       "      <td>3VAX2MJdmdqARLSU5hPMpm</td>\n",
       "      <td>1bcqsH5UyTBzmh9YizdsBE</td>\n",
       "      <td>['4xWMewm6CYMstu0sPgd9jJ']</td>\n",
       "      <td>31</td>\n",
       "      <td>0.863</td>\n",
       "      <td>0.719</td>\n",
       "      <td>656960</td>\n",
       "      <td>0.308</td>\n",
       "      <td>0.253</td>\n",
       "      <td>-10.340</td>\n",
       "      <td>0.9220</td>\n",
       "      <td>115.075</td>\n",
       "      <td>0.5890</td>\n",
       "      <td>track_3</td>\n",
       "      <td>3</td>\n",
       "    </tr>\n",
       "    <tr>\n",
       "      <td>2</td>\n",
       "      <td>1L3YAhsEMrGVvCgDXj2TYn</td>\n",
       "      <td>4tKijjmxGClg4JOLAyo2qE</td>\n",
       "      <td>['3hYaK5FF3YAglCj5HZgBnP']</td>\n",
       "      <td>31</td>\n",
       "      <td>0.750</td>\n",
       "      <td>0.466</td>\n",
       "      <td>492840</td>\n",
       "      <td>0.931</td>\n",
       "      <td>0.938</td>\n",
       "      <td>-13.605</td>\n",
       "      <td>0.9440</td>\n",
       "      <td>79.565</td>\n",
       "      <td>0.0850</td>\n",
       "      <td>track_4</td>\n",
       "      <td>4</td>\n",
       "    </tr>\n",
       "    <tr>\n",
       "      <td>3</td>\n",
       "      <td>6aCe9zzoZmCojX7bbgKKtf</td>\n",
       "      <td>6FeJF5r8roonnKraJxr4oB</td>\n",
       "      <td>['2KQsUB9DRBcJk17JWX1eXD']</td>\n",
       "      <td>14</td>\n",
       "      <td>0.763</td>\n",
       "      <td>0.719</td>\n",
       "      <td>316578</td>\n",
       "      <td>0.126</td>\n",
       "      <td>0.113</td>\n",
       "      <td>-20.254</td>\n",
       "      <td>0.9380</td>\n",
       "      <td>112.822</td>\n",
       "      <td>0.5330</td>\n",
       "      <td>track_9</td>\n",
       "      <td>1</td>\n",
       "    </tr>\n",
       "    <tr>\n",
       "      <td>4</td>\n",
       "      <td>1Vo802A38tPFHmje1h91um</td>\n",
       "      <td>4tKijjmxGClg4JOLAyo2qE</td>\n",
       "      <td>['3hYaK5FF3YAglCj5HZgBnP']</td>\n",
       "      <td>32</td>\n",
       "      <td>0.770</td>\n",
       "      <td>0.460</td>\n",
       "      <td>558880</td>\n",
       "      <td>0.942</td>\n",
       "      <td>0.917</td>\n",
       "      <td>-13.749</td>\n",
       "      <td>0.9430</td>\n",
       "      <td>81.260</td>\n",
       "      <td>0.0906</td>\n",
       "      <td>track_2</td>\n",
       "      <td>2</td>\n",
       "    </tr>\n",
       "  </tbody>\n",
       "</table>\n",
       "</div>"
      ],
      "text/plain": [
       "                 track_id                album_id                  artists_id  \\\n",
       "0  5qljLQuKnNJf4F4vfxQB0V  0D3QufeCudpQANOR7luqdr  ['3mxJuHRn2ZWD5OofvJtDZY']   \n",
       "1  3VAX2MJdmdqARLSU5hPMpm  1bcqsH5UyTBzmh9YizdsBE  ['4xWMewm6CYMstu0sPgd9jJ']   \n",
       "2  1L3YAhsEMrGVvCgDXj2TYn  4tKijjmxGClg4JOLAyo2qE  ['3hYaK5FF3YAglCj5HZgBnP']   \n",
       "3  6aCe9zzoZmCojX7bbgKKtf  6FeJF5r8roonnKraJxr4oB  ['2KQsUB9DRBcJk17JWX1eXD']   \n",
       "4  1Vo802A38tPFHmje1h91um  4tKijjmxGClg4JOLAyo2qE  ['3hYaK5FF3YAglCj5HZgBnP']   \n",
       "\n",
       "   popularity  acousticness  danceability  duration_ms  energy  liveness  \\\n",
       "0          28         0.294         0.698       235584   0.606     0.151   \n",
       "1          31         0.863         0.719       656960   0.308     0.253   \n",
       "2          31         0.750         0.466       492840   0.931     0.938   \n",
       "3          14         0.763         0.719       316578   0.126     0.113   \n",
       "4          32         0.770         0.460       558880   0.942     0.917   \n",
       "\n",
       "   loudness  speechiness    tempo  valence track_name_prev  track_number  \n",
       "0    -7.447       0.0262  115.018   0.6220        track_14             1  \n",
       "1   -10.340       0.9220  115.075   0.5890         track_3             3  \n",
       "2   -13.605       0.9440   79.565   0.0850         track_4             4  \n",
       "3   -20.254       0.9380  112.822   0.5330         track_9             1  \n",
       "4   -13.749       0.9430   81.260   0.0906         track_2             2  "
      ]
     },
     "execution_count": 74,
     "metadata": {},
     "output_type": "execute_result"
    }
   ],
   "source": [
    "# load track_df  dataframe\n",
    "\n",
    "track_df = pd.read_csv('tracks.csv', delimiter=',')\n",
    "track_df.head(5)\n",
    "\n"
   ]
  },
  {
   "cell_type": "markdown",
   "metadata": {},
   "source": [
    "**Q1.1** Merge the *artist_df* and *album_df* dataframes and name the new dataframe *artist_album_df* and show the first 5 rows. (**1 points**)"
   ]
  },
  {
   "cell_type": "code",
   "execution_count": 75,
   "metadata": {},
   "outputs": [
    {
     "data": {
      "text/html": [
       "<div>\n",
       "<style scoped>\n",
       "    .dataframe tbody tr th:only-of-type {\n",
       "        vertical-align: middle;\n",
       "    }\n",
       "\n",
       "    .dataframe tbody tr th {\n",
       "        vertical-align: top;\n",
       "    }\n",
       "\n",
       "    .dataframe thead th {\n",
       "        text-align: right;\n",
       "    }\n",
       "</style>\n",
       "<table border=\"1\" class=\"dataframe\">\n",
       "  <thead>\n",
       "    <tr style=\"text-align: right;\">\n",
       "      <th></th>\n",
       "      <th>track_id</th>\n",
       "      <th>album_id</th>\n",
       "      <th>artists_id</th>\n",
       "      <th>popularity</th>\n",
       "      <th>acousticness</th>\n",
       "      <th>danceability</th>\n",
       "      <th>duration_ms</th>\n",
       "      <th>energy</th>\n",
       "      <th>liveness</th>\n",
       "      <th>loudness</th>\n",
       "      <th>speechiness</th>\n",
       "      <th>tempo</th>\n",
       "      <th>valence</th>\n",
       "      <th>track_name_prev</th>\n",
       "      <th>track_number</th>\n",
       "    </tr>\n",
       "  </thead>\n",
       "  <tbody>\n",
       "    <tr>\n",
       "      <td>0</td>\n",
       "      <td>5qljLQuKnNJf4F4vfxQB0V</td>\n",
       "      <td>0D3QufeCudpQANOR7luqdr</td>\n",
       "      <td>['3mxJuHRn2ZWD5OofvJtDZY']</td>\n",
       "      <td>28</td>\n",
       "      <td>0.294</td>\n",
       "      <td>0.698</td>\n",
       "      <td>235584</td>\n",
       "      <td>0.606</td>\n",
       "      <td>0.151</td>\n",
       "      <td>-7.447</td>\n",
       "      <td>0.0262</td>\n",
       "      <td>115.018</td>\n",
       "      <td>0.6220</td>\n",
       "      <td>track_14</td>\n",
       "      <td>1</td>\n",
       "    </tr>\n",
       "    <tr>\n",
       "      <td>1</td>\n",
       "      <td>3VAX2MJdmdqARLSU5hPMpm</td>\n",
       "      <td>1bcqsH5UyTBzmh9YizdsBE</td>\n",
       "      <td>['4xWMewm6CYMstu0sPgd9jJ']</td>\n",
       "      <td>31</td>\n",
       "      <td>0.863</td>\n",
       "      <td>0.719</td>\n",
       "      <td>656960</td>\n",
       "      <td>0.308</td>\n",
       "      <td>0.253</td>\n",
       "      <td>-10.340</td>\n",
       "      <td>0.9220</td>\n",
       "      <td>115.075</td>\n",
       "      <td>0.5890</td>\n",
       "      <td>track_3</td>\n",
       "      <td>3</td>\n",
       "    </tr>\n",
       "    <tr>\n",
       "      <td>2</td>\n",
       "      <td>1L3YAhsEMrGVvCgDXj2TYn</td>\n",
       "      <td>4tKijjmxGClg4JOLAyo2qE</td>\n",
       "      <td>['3hYaK5FF3YAglCj5HZgBnP']</td>\n",
       "      <td>31</td>\n",
       "      <td>0.750</td>\n",
       "      <td>0.466</td>\n",
       "      <td>492840</td>\n",
       "      <td>0.931</td>\n",
       "      <td>0.938</td>\n",
       "      <td>-13.605</td>\n",
       "      <td>0.9440</td>\n",
       "      <td>79.565</td>\n",
       "      <td>0.0850</td>\n",
       "      <td>track_4</td>\n",
       "      <td>4</td>\n",
       "    </tr>\n",
       "    <tr>\n",
       "      <td>3</td>\n",
       "      <td>6aCe9zzoZmCojX7bbgKKtf</td>\n",
       "      <td>6FeJF5r8roonnKraJxr4oB</td>\n",
       "      <td>['2KQsUB9DRBcJk17JWX1eXD']</td>\n",
       "      <td>14</td>\n",
       "      <td>0.763</td>\n",
       "      <td>0.719</td>\n",
       "      <td>316578</td>\n",
       "      <td>0.126</td>\n",
       "      <td>0.113</td>\n",
       "      <td>-20.254</td>\n",
       "      <td>0.9380</td>\n",
       "      <td>112.822</td>\n",
       "      <td>0.5330</td>\n",
       "      <td>track_9</td>\n",
       "      <td>1</td>\n",
       "    </tr>\n",
       "    <tr>\n",
       "      <td>4</td>\n",
       "      <td>1Vo802A38tPFHmje1h91um</td>\n",
       "      <td>4tKijjmxGClg4JOLAyo2qE</td>\n",
       "      <td>['3hYaK5FF3YAglCj5HZgBnP']</td>\n",
       "      <td>32</td>\n",
       "      <td>0.770</td>\n",
       "      <td>0.460</td>\n",
       "      <td>558880</td>\n",
       "      <td>0.942</td>\n",
       "      <td>0.917</td>\n",
       "      <td>-13.749</td>\n",
       "      <td>0.9430</td>\n",
       "      <td>81.260</td>\n",
       "      <td>0.0906</td>\n",
       "      <td>track_2</td>\n",
       "      <td>2</td>\n",
       "    </tr>\n",
       "  </tbody>\n",
       "</table>\n",
       "</div>"
      ],
      "text/plain": [
       "                 track_id                album_id                  artists_id  \\\n",
       "0  5qljLQuKnNJf4F4vfxQB0V  0D3QufeCudpQANOR7luqdr  ['3mxJuHRn2ZWD5OofvJtDZY']   \n",
       "1  3VAX2MJdmdqARLSU5hPMpm  1bcqsH5UyTBzmh9YizdsBE  ['4xWMewm6CYMstu0sPgd9jJ']   \n",
       "2  1L3YAhsEMrGVvCgDXj2TYn  4tKijjmxGClg4JOLAyo2qE  ['3hYaK5FF3YAglCj5HZgBnP']   \n",
       "3  6aCe9zzoZmCojX7bbgKKtf  6FeJF5r8roonnKraJxr4oB  ['2KQsUB9DRBcJk17JWX1eXD']   \n",
       "4  1Vo802A38tPFHmje1h91um  4tKijjmxGClg4JOLAyo2qE  ['3hYaK5FF3YAglCj5HZgBnP']   \n",
       "\n",
       "   popularity  acousticness  danceability  duration_ms  energy  liveness  \\\n",
       "0          28         0.294         0.698       235584   0.606     0.151   \n",
       "1          31         0.863         0.719       656960   0.308     0.253   \n",
       "2          31         0.750         0.466       492840   0.931     0.938   \n",
       "3          14         0.763         0.719       316578   0.126     0.113   \n",
       "4          32         0.770         0.460       558880   0.942     0.917   \n",
       "\n",
       "   loudness  speechiness    tempo  valence track_name_prev  track_number  \n",
       "0    -7.447       0.0262  115.018   0.6220        track_14             1  \n",
       "1   -10.340       0.9220  115.075   0.5890         track_3             3  \n",
       "2   -13.605       0.9440   79.565   0.0850         track_4             4  \n",
       "3   -20.254       0.9380  112.822   0.5330         track_9             1  \n",
       "4   -13.749       0.9430   81.260   0.0906         track_2             2  "
      ]
     },
     "execution_count": 75,
     "metadata": {},
     "output_type": "execute_result"
    }
   ],
   "source": [
    "# your code \n",
    "artist_album_df = pd.merge(artist_df,album_df,'inner')\n",
    "track_df.head(5)\n",
    "\n"
   ]
  },
  {
   "cell_type": "markdown",
   "metadata": {},
   "source": [
    "**Q1.2** Show the name of the artists and number of albums for the **top 10 artists** with the most number of albums (**not singles**). (**2 points**)"
   ]
  },
  {
   "cell_type": "code",
   "execution_count": 76,
   "metadata": {},
   "outputs": [
    {
     "data": {
      "text/plain": [
       "0LyfQWJT6nXafLPZqxe9Of    216\n",
       "0spHbv2fw49lDMkbOAdaqX     43\n",
       "7f5Zgnp2spUuuzKplmRkt7     41\n",
       "1Cs0zKBU1kc0i8ypK3B9ai     41\n",
       "0SfsnGyD8FpIN4U4WCkBZ5     38\n",
       "6cEuCEZu7PAE9ZSzLLc2oQ     34\n",
       "28uJnu5EsrGml2tBd7y8ts     33\n",
       "60d24wfXkVzDSfLS6hyCjZ     30\n",
       "6MDME20pz9RveH9rEXvrOM     29\n",
       "77AiFEVeAVj2ORpC85QVJs     25\n",
       "Name: artist_id, dtype: int64"
      ]
     },
     "execution_count": 76,
     "metadata": {},
     "output_type": "execute_result"
    }
   ],
   "source": [
    "# your code \n",
    "singles_df= album_df[album_df['album_type']=='single']\n",
    "singles_df['artist_id'].value_counts().head(10)\n",
    "\n",
    "\n",
    "#singles_df['artist_id'].value_counts().index.tolist()\n",
    "\n"
   ]
  },
  {
   "cell_type": "markdown",
   "metadata": {},
   "source": [
    "**Q1.3** How many singles and how many albums were released by **Bruno Merz** since 2010 (inclusive). **(2 points)**\n",
    "\n",
    "Note that the release date of albums can be a year or a particular date."
   ]
  },
  {
   "cell_type": "code",
   "execution_count": 77,
   "metadata": {},
   "outputs": [],
   "source": [
    "# your code \n",
    "bruno= artist_df[artist_df['artist_name']==\"Bruno Mars\"]\n",
    "bruno_id= bruno['artist_id']"
   ]
  },
  {
   "cell_type": "markdown",
   "metadata": {},
   "source": [
    "**Q2.1** Who are the top 10 artists with the most popularity? Do these artists have the most followers? If the lists of artists differ, what does that mean? \n",
    "\n",
    "Use *artist_df* to answer this question. (**2 points**)"
   ]
  },
  {
   "cell_type": "code",
   "execution_count": 78,
   "metadata": {},
   "outputs": [
    {
     "name": "stdout",
     "output_type": "stream",
     "text": [
      "42872    Ariana Grande\n",
      "Name: artist_name, dtype: object\n",
      "53392    Drake\n",
      "Name: artist_name, dtype: object\n",
      "49775    Post Malone\n",
      "Name: artist_name, dtype: object\n",
      "49695      Juice WRLD\n",
      "52306           Ozuna\n",
      "53406          Khalid\n",
      "55822    XXXTENTACION\n",
      "Name: artist_name, dtype: object\n",
      "52306           Ozuna\n",
      "53406          Khalid\n",
      "55822    XXXTENTACION\n",
      "Name: artist_name, dtype: object\n",
      "53406          Khalid\n",
      "55822    XXXTENTACION\n",
      "Name: artist_name, dtype: object\n",
      "55822    XXXTENTACION\n",
      "Name: artist_name, dtype: object\n",
      "39126           Queen\n",
      "49320    Travis Scott\n",
      "52280        Anuel Aa\n",
      "55502       Bad Bunny\n",
      "Name: artist_name, dtype: object\n",
      "49320    Travis Scott\n",
      "52280        Anuel Aa\n",
      "55502       Bad Bunny\n",
      "Name: artist_name, dtype: object\n",
      "52280     Anuel Aa\n",
      "55502    Bad Bunny\n",
      "Name: artist_name, dtype: object\n"
     ]
    }
   ],
   "source": [
    "# your code for  top 10 artists with the most popularity\n",
    "artist_df = pd.read_csv('artists.csv', delimiter=',')\n",
    "artist_df2= artist_df\n",
    "\n",
    "\n",
    "\n",
    "\n",
    "for i in range(10):\n",
    "    popsi= artist_df2['artist_popularity'].nlargest(1).index\n",
    "    popsi2=popsi[0]\n",
    "  \n",
    "    pops= artist_df2['artist_popularity'].nlargest(1).values\n",
    "   \n",
    "    maxPops= pops[0]\n",
    "    #print(maxPops)\n",
    "    pop_df= artist_df2[artist_df2['artist_popularity']==maxPops]\n",
    "    \n",
    "    \n",
    "    artist_df2.drop(popsi2,inplace=True)\n",
    "   \n",
    "    print(pop_df['artist_name'])\n",
    "    \n",
    "    \n",
    "    #pop_df.drop()\n",
    "    \n",
    "\n",
    "    \n",
    "        \n"
   ]
  },
  {
   "cell_type": "code",
   "execution_count": 79,
   "metadata": {},
   "outputs": [
    {
     "name": "stdout",
     "output_type": "stream",
     "text": [
      "55251    Ed Sheeran\n",
      "Name: artist_name, dtype: object\n",
      "53392    Drake\n",
      "Name: artist_name, dtype: object\n",
      "52620    Rihanna\n",
      "Name: artist_name, dtype: object\n",
      "54447    Justin Bieber\n",
      "Name: artist_name, dtype: object\n",
      "42872    Ariana Grande\n",
      "Name: artist_name, dtype: object\n",
      "45173    Eminem\n",
      "Name: artist_name, dtype: object\n",
      "56012    Bruno Mars\n",
      "Name: artist_name, dtype: object\n",
      "54980    Coldplay\n",
      "Name: artist_name, dtype: object\n",
      "55997    David Guetta\n",
      "Name: artist_name, dtype: object\n",
      "52563    Beyoncé\n",
      "Name: artist_name, dtype: object\n"
     ]
    }
   ],
   "source": [
    "# your code for artists having the most followers\n",
    "artist_df = pd.read_csv('artists.csv', delimiter=',')\n",
    "artist_df2= artist_df\n",
    "\n",
    "\n",
    "\n",
    "\n",
    "for i in range(10):\n",
    "    popsi= artist_df2['followers'].nlargest(1).index\n",
    "    popsi2=popsi[0]\n",
    "  \n",
    "    pops= artist_df2['followers'].nlargest(1).values\n",
    "   \n",
    "    maxPops= pops[0]\n",
    "    #print(maxPops)\n",
    "    pop_df= artist_df2[artist_df2['followers']==maxPops]\n",
    "    \n",
    "   \n",
    "    artist_df2.drop(popsi2,inplace=True)\n",
    "   \n",
    "    print(pop_df['artist_name'])\n",
    "    \n"
   ]
  },
  {
   "cell_type": "raw",
   "metadata": {},
   "source": []
  },
  {
   "cell_type": "markdown",
   "metadata": {},
   "source": [
    "**Answer:** "
   ]
  },
  {
   "cell_type": "markdown",
   "metadata": {},
   "source": [
    "**Q2.2** Using *artist_df* create a list called *genres* containing all possible values within the \"genre\" column. This list must contain only unique values.\n",
    "\n",
    "*Hint*: the genres column contains strings, not lists. (**2 points**)"
   ]
  },
  {
   "cell_type": "code",
   "execution_count": 80,
   "metadata": {},
   "outputs": [
    {
     "name": "stdout",
     "output_type": "stream",
     "text": [
      "[\"['sertanejo', 'sertanejo pop', 'sertanejo tradicional', 'sertanejo universitario']\"\n",
      " '[]' \"['danish pop rock']\" ...\n",
      " \"['dance pop', 'hip pop', 'pop', 'post-teen pop', 'r&b']\"\n",
      " \"['chilean rock', 'concepcion indie']\"\n",
      " \"['aggro chileno', 'andean', 'chilean rock', 'latin rock', 'nueva cancion']\"]\n"
     ]
    }
   ],
   "source": [
    "# your code\n",
    "\n",
    "x=artist_df['genres'].unique()\n",
    "print(x)"
   ]
  },
  {
   "cell_type": "markdown",
   "metadata": {},
   "source": [
    "**Q2.3** Using *artist_df* create 5 new dataframes *pop_df*, *rock_df*, *jazz_df*, *indie_df* and *hiphop_df*. If the genre of a track **contains** the word \"pop\" (such as, in \"danish pop rock\"), add it to the *pop_df*. Do this (i.e. create the corresponding dataframes) in a  similar way for other genres. (**2 points**)\n"
   ]
  },
  {
   "cell_type": "code",
   "execution_count": 81,
   "metadata": {},
   "outputs": [
    {
     "name": "stdout",
     "output_type": "stream",
     "text": [
      "                    artist_id  artist_popularity  followers  \\\n",
      "0      4mGnpjhqgx4RUdsIJiURdo                 44      23230   \n",
      "2      6YVY310fjfUzKi8hiqR7iK                 26       1596   \n",
      "3      2VElyouiCfoYPDJluzwJwK                 31        149   \n",
      "9      5ijoPCUhV0dW8EJ7aPGvXK                 25        992   \n",
      "11     0ozdcqmICsOZDe7eJQVzrp                 53     373085   \n",
      "...                       ...                ...        ...   \n",
      "56115  3WGpXCj9YhhfX11TToZcXP                 85    3155677   \n",
      "56116  6JL8zeS1NmiOftqZTRgdTz                 80    7093119   \n",
      "56119  5fyBhURKALJ81CC9X4DvZP                 55      27682   \n",
      "56120  1HBjj22wzbscIZ9sEb5dyf                 83    1726953   \n",
      "56121  4EPJlUEBy49EX1wuFOvtjK                 70      50315   \n",
      "\n",
      "                                                  genres  \\\n",
      "0      ['sertanejo', 'sertanejo pop', 'sertanejo trad...   \n",
      "2                                    ['danish pop rock']   \n",
      "3                                 ['uk alternative pop']   \n",
      "9                                ['classic finnish pop']   \n",
      "11     ['pagode', 'sertanejo', 'sertanejo pop', 'sert...   \n",
      "...                                                  ...   \n",
      "56115  ['dance pop', 'pop', 'post-teen pop', 'viral p...   \n",
      "56116  ['dance pop', 'hip pop', 'pop', 'post-teen pop...   \n",
      "56119    ['finnish dance pop', 'finnish pop', 'iskelma']   \n",
      "56120      ['dance pop', 'edm', 'pop', 'tropical house']   \n",
      "56121                                      ['pop house']   \n",
      "\n",
      "                        artist_name  \n",
      "0                     Juliano Cezar  \n",
      "2                           Gangway  \n",
      "3                             FADES  \n",
      "9      Pepe Willberg & The Paradise  \n",
      "11                    Rick & Renner  \n",
      "...                             ...  \n",
      "56115                   Troye Sivan  \n",
      "56116                Meghan Trainor  \n",
      "56119                        Vesala  \n",
      "56120                    Jonas Blue  \n",
      "56121                    Becky Hill  \n",
      "\n",
      "[9225 rows x 5 columns]\n",
      "                    artist_id  artist_popularity  followers  \\\n",
      "60     2xiHxT5QkkxHVhljrRGbW9                 36       5304   \n",
      "151    6FaSJ1FXpb5QxKu77LPiZr                 36      22447   \n",
      "221    210tC5HRo1NpbeqCvWlJuv                 38        896   \n",
      "227    6dz608P8sHylVvVVo5OLx2                 37       3683   \n",
      "231    2OfIB3yNJjX3AElLJnz8am                 41       5787   \n",
      "...                       ...                ...        ...   \n",
      "55561  2qW0CNnmvdEQwiabdareHi                 54      22577   \n",
      "55612  5p1ichthTka1KT0iUvrlIu                 60      30158   \n",
      "55644  5SRwYMyavJCNT2AdVMpPgi                 36      26972   \n",
      "55771  0cmWgDlu9CwTgxPhf403hb                 69     850151   \n",
      "55777  7Eu1txygG6nJttLHbZdQOh                 64     305119   \n",
      "\n",
      "                                                  genres  \\\n",
      "60                                       ['smooth jazz']   \n",
      "151    ['french reggae', 'latin alternative', 'ska ja...   \n",
      "221                                   ['jazz saxophone']   \n",
      "227                             ['jazz piano', 'stride']   \n",
      "231                   ['british jazz', 'jazz saxophone']   \n",
      "...                                                  ...   \n",
      "55561  ['contemporary jazz', 'contemporary post-bop',...   \n",
      "55612                      ['chillhop', 'jazz boom bap']   \n",
      "55644  ['boogaloo', 'classic colombian pop', 'cumbia'...   \n",
      "55771  ['acid jazz', 'downtempo', 'electronic', 'indi...   \n",
      "55777  ['alternative dance', 'electronic', 'indietron...   \n",
      "\n",
      "                  artist_name  \n",
      "60                 Four80East  \n",
      "151            Sergent Garcia  \n",
      "221               Jim Snidero  \n",
      "227            Marcus Roberts  \n",
      "231             Courtney Pine  \n",
      "...                       ...  \n",
      "55561             Paolo Fresu  \n",
      "55612               L'Indécis  \n",
      "55644  Nelson Y Sus Estrellas  \n",
      "55771                  Bonobo  \n",
      "55777                Four Tet  \n",
      "\n",
      "[1473 rows x 5 columns]\n",
      "                    artist_id  artist_popularity  followers  \\\n",
      "17     4sH7SLGP6BLOYDtcP6Lm47                 46      30344   \n",
      "26     6PWRJs1FosHp8Cqx0Nmswj                 44      29230   \n",
      "114    6TeJpqb3PcvfHxjKAEKCNu                 49      31182   \n",
      "144    05X5qdeeGgBQe115bTNlWu                 43      13533   \n",
      "200    7iy8L2sZVT2ae2pWZWadrs                  7        302   \n",
      "...                       ...                ...        ...   \n",
      "56036  0S2dfczvN0sOxEw559snHT                 56      16616   \n",
      "56037  1Bl6wpkWCQ4KVgnASpvzzA                 77     731372   \n",
      "56038  2ExGrw6XpbtUAJHTLtUXUD                 78     235776   \n",
      "56039  5V7VvmsDDarTLjURpSEPZl                 61      36630   \n",
      "56076  5XTn5Az9AcSKu0oaauC5ES                 62      23238   \n",
      "\n",
      "                                                  genres       artist_name  \n",
      "17                                  ['abstract hip hop']             P.O.S  \n",
      "26     ['abstract hip hop', 'experimental hip hop', '...     Astronautalis  \n",
      "114      ['dark trap', 'emo rap', 'underground hip hop']            PRXJEK  \n",
      "144                     ['danish hip hop', 'danish pop']            Pede B  \n",
      "200                                  ['belgian hip hop']          Masai Jr  \n",
      "...                                                  ...               ...  \n",
      "56036                           ['uk hip hop', 'uk pop']   Tiggs Da Author  \n",
      "56037                     ['boy band', 'hip hop', 'rap']      BROCKHAMPTON  \n",
      "56038                       ['pop', 'r&b', 'uk hip hop']      Stefflon Don  \n",
      "56039                                     ['uk hip hop']         AJ x Deno  \n",
      "56076  ['chillhop', 'lo-fi beats', 'portland hip hop'...  quickly, quickly  \n",
      "\n",
      "[3265 rows x 5 columns]\n",
      "                    artist_id  artist_popularity  followers  \\\n",
      "27     0QlLoZNKC35p4rWMyo3sEk                 30        436   \n",
      "32     0p6NrdHl8dQQALGIqVcrjt                 30        910   \n",
      "43     5nrAu9uBcj8NcdZHo09qG9                 46      20195   \n",
      "58     0Dt97GvTO4dxdBYqyxLwLY                 48       4410   \n",
      "91     4jUscfWxMwNhbyKwDcm0hg                 34        130   \n",
      "...                       ...                ...        ...   \n",
      "56094  0qHLQ9RMn7Vcel1eJS5lCb                 17        539   \n",
      "56095  1XIFZexGu17xwWAjdFBLwI                 40      10685   \n",
      "56104  1xkxEEm60IyknT2Eh469mX                 48      34227   \n",
      "56123  3PTY4xpIpcilnbUlLc5hgm                 23       3733   \n",
      "56128  47yawJswuSfSvizYhItoOP                 44      42026   \n",
      "\n",
      "                                                  genres         artist_name  \n",
      "27                                 ['minneapolis indie']         Eric Mayson  \n",
      "32                                 ['minneapolis indie']         Sophia Eris  \n",
      "43     ['deep chiptune', 'filter house', 'montreal in...            Le Matos  \n",
      "58                                 ['indie electro-pop']      Lilianna Wilde  \n",
      "91                         ['montreal indie', 'pop edm']                NUDØ  \n",
      "...                                                  ...                 ...  \n",
      "56094                                  ['chilean indie']        Coloresantos  \n",
      "56095                   ['chilean indie', 'rap chileno']     Frainstrumentos  \n",
      "56104           ['indie r&b', 'vapor pop', 'vapor soul']                Fyfe  \n",
      "56123               ['chilean rock', 'concepcion indie']       Santos Dumont  \n",
      "56128  ['australian alternative rock', 'australian in...  Something For Kate  \n",
      "\n",
      "[4749 rows x 5 columns]\n",
      "                    artist_id  artist_popularity  followers  \\\n",
      "2      6YVY310fjfUzKi8hiqR7iK                 26       1596   \n",
      "44     06nsZ3qSOYZ2hPVIMcr1IN                 62     262503   \n",
      "214    6edn7w0sjyIO56ONYW8JLE                 24       2048   \n",
      "250    3OIqsixUgypKXGmU50iCZ5                  4         38   \n",
      "254    2saVhSlCKjNZnW4QZcFHkE                 24       2510   \n",
      "...                       ...                ...        ...   \n",
      "56124  48YkQQTWzmT248VY8DF7Fv                 23       1212   \n",
      "56125  1OgaghfYd1qr8DFoNrfDNk                 42      57973   \n",
      "56126  7o9kdTx6RmO12iAVVsNehd                 38      20870   \n",
      "56127  6n3YUZcayLRuAunJUUelvz                 44      33923   \n",
      "56128  47yawJswuSfSvizYhItoOP                 44      42026   \n",
      "\n",
      "                                                  genres  \\\n",
      "2                                    ['danish pop rock']   \n",
      "44     ['blues', 'blues-rock', 'classic rock', 'folk'...   \n",
      "214                                 ['indie psych-rock']   \n",
      "250                                   ['colombian rock']   \n",
      "254                                   ['colombian rock']   \n",
      "...                                                  ...   \n",
      "56124                                   ['chilean rock']   \n",
      "56125  ['aggro chileno', 'andean', 'chilean rock', 'l...   \n",
      "56126  ['australian alternative rock', 'australian ro...   \n",
      "56127  ['australian alternative rock', 'australian ro...   \n",
      "56128  ['australian alternative rock', 'australian in...   \n",
      "\n",
      "                 artist_name  \n",
      "2                    Gangway  \n",
      "44                 J.J. Cale  \n",
      "214                 Bad Wave  \n",
      "250        Trópico Esmeralda  \n",
      "254      Velandia y La Tigra  \n",
      "...                      ...  \n",
      "56124  Profetas y Freneticos  \n",
      "56125               Sinergia  \n",
      "56126         The Superjesus  \n",
      "56127           Regurgitator  \n",
      "56128     Something For Kate  \n",
      "\n",
      "[5301 rows x 5 columns]\n"
     ]
    }
   ],
   "source": [
    "# your code\n",
    "\n",
    "pop_df= artist_df[artist_df['genres'].str.contains('pop', regex=False)]\n",
    "print(pop_df)\n",
    "\n",
    "jazz_df= artist_df[artist_df['genres'].str.contains('jazz', regex=False)]\n",
    "print(jazz_df)\n",
    "\n",
    "hiphop_df= artist_df[artist_df['genres'].str.contains('hip hop', regex=False)]\n",
    "print(hiphop_df)\n",
    "\n",
    "indie_df= artist_df[artist_df['genres'].str.contains('indie', regex=False)]\n",
    "print(indie_df)\n",
    "\n",
    "rock_df= artist_df[artist_df['genres'].str.contains('rock', regex=False)]\n",
    "print(rock_df)\n"
   ]
  },
  {
   "cell_type": "markdown",
   "metadata": {},
   "source": [
    "**Q2.4** For each of the 5 categories from Q2.3, plot the boxplots of the artist popularity in a single plot. Which genre has the highest median artist popularity and which boxplot looks like it has the lowest number of outliers? How do you know? (**2 points**)"
   ]
  },
  {
   "cell_type": "code",
   "execution_count": 82,
   "metadata": {},
   "outputs": [
    {
     "data": {
      "text/plain": [
       "{'whiskers': [<matplotlib.lines.Line2D at 0x239f71f6748>,\n",
       "  <matplotlib.lines.Line2D at 0x239f71f6048>],\n",
       " 'caps': [<matplotlib.lines.Line2D at 0x239f71f2608>,\n",
       "  <matplotlib.lines.Line2D at 0x239f71f2508>],\n",
       " 'boxes': [<matplotlib.lines.Line2D at 0x239d7fa8ac8>],\n",
       " 'medians': [<matplotlib.lines.Line2D at 0x239f71ea508>],\n",
       " 'fliers': [<matplotlib.lines.Line2D at 0x239f71ea408>],\n",
       " 'means': []}"
      ]
     },
     "execution_count": 82,
     "metadata": {},
     "output_type": "execute_result"
    },
    {
     "data": {
      "image/png": "[encoded data removed]",
      "text/plain": [
       "<Figure size 432x288 with 5 Axes>"
      ]
     },
     "metadata": {
      "needs_background": "light"
     },
     "output_type": "display_data"
    }
   ],
   "source": [
    "# your code\n",
    "\n",
    "\n",
    "plt.subplot(1, 5, 1)\n",
    "dataPop= pop_df['artist_popularity']\n",
    "plt.boxplot(dataPop)\n",
    "\n",
    "plt.subplot(1, 5, 2)\n",
    "dataRock= rock_df['artist_popularity']\n",
    "plt.boxplot(dataRock)\n",
    "\n",
    "plt.subplot(1, 5, 3)\n",
    "dataJazz= jazz_df['artist_popularity']\n",
    "plt.boxplot(dataJazz)\n",
    "\n",
    "plt.subplot(1, 5, 4)\n",
    "dataHiphop= hiphop_df['artist_popularity']\n",
    "plt.boxplot(dataHiphop)\n",
    "\n",
    "plt.subplot(1, 5, 5)\n",
    "dataIndie= indie_df['artist_popularity']\n",
    "plt.boxplot(dataIndie)\n",
    "\n",
    "#hip hop has the highest popularity level becuase its median is highest and it seems like jazz has the lowest number of outliers\n",
    "#becuase it has the shortest whiskers"
   ]
  },
  {
   "cell_type": "markdown",
   "metadata": {},
   "source": [
    "**Answer:** "
   ]
  },
  {
   "cell_type": "markdown",
   "metadata": {},
   "source": [
    "**Q2.5** For each of the 5 categories from Q2.3, plot a bar chart of the number of followers per given genre (pop, rock, jazz, indie and hip hop) in a single plot. Which genre has the most followers? Which one has the least? (**2 points**)"
   ]
  },
  {
   "cell_type": "code",
   "execution_count": 83,
   "metadata": {},
   "outputs": [
    {
     "data": {
      "text/plain": [
       "<BarContainer object of 5 artists>"
      ]
     },
     "execution_count": 83,
     "metadata": {},
     "output_type": "execute_result"
    },
    {
     "data": {
      "image/png": "[encoded data removed]",
      "text/plain": [
       "<Figure size 432x288 with 1 Axes>"
      ]
     },
     "metadata": {
      "needs_background": "light"
     },
     "output_type": "display_data"
    }
   ],
   "source": [
    "# your code\n",
    "\n",
    "\n",
    "plt.subplot(1, 5, 1)\n",
    "dataPop= pop_df['artist_popularity']\n",
    "\n",
    "popFollowers= pop_df['followers'].sum()\n",
    "rockFollowers= rock_df['followers'].sum()\n",
    "jazzFollowers= jazz_df['followers'].sum()\n",
    "hiphopFollowers= hiphop_df['followers'].sum()\n",
    "indieFollowers= indie_df['followers'].sum()\n",
    "\n",
    "data=[popFollowers,rockFollowers,jazzFollowers,hiphopFollowers,indieFollowers]\n",
    "\n",
    "\n",
    "\n",
    "x= [i for i in range(1,6)]\n",
    "plt.bar(x,data)\n",
    "\n",
    "\n",
    "    \n",
    "\n",
    "\n"
   ]
  },
  {
   "cell_type": "markdown",
   "metadata": {},
   "source": [
    "**Answer:** "
   ]
  },
  {
   "cell_type": "markdown",
   "metadata": {},
   "source": [
    "**Q3.** Danceability has been defined as a property that indicates how suitable a piece of music is to dance based on various audio features such as tempo, loudness, valence (i.e. musical positiveness of emotion) and speechiness etc. In the next few questions, you will try to determine the features that have the most influence on danceability.\n",
    "\n",
    "Use *track_df* to answer these questions. Filter out any record with danceability 0 or less, before proceeding."
   ]
  },
  {
   "cell_type": "markdown",
   "metadata": {},
   "source": [
    "**Q4.1** Plot a scatterplot of the danceability of the tracks (on the x-axis) and their tempo (on the y-axis), then calculate Pearson’s Correlation Coefficient. (**1 points**)"
   ]
  },
  {
   "cell_type": "code",
   "execution_count": 84,
   "metadata": {},
   "outputs": [
    {
     "data": {
      "text/plain": [
       "-0.034808405915085376"
      ]
     },
     "execution_count": 84,
     "metadata": {},
     "output_type": "execute_result"
    },
    {
     "data": {
      "image/png": "[encoded data removed]",
      "text/plain": [
       "<Figure size 432x288 with 1 Axes>"
      ]
     },
     "metadata": {
      "needs_background": "light"
     },
     "output_type": "display_data"
    }
   ],
   "source": [
    "# your code\n",
    "new_track_df= track_df[track_df['danceability']!=0]\n",
    "plt.scatter(new_track_df['danceability'],new_track_df['tempo'])\n",
    "\n",
    "thinkstats2.Cov(new_track_df['danceability'],new_track_df['tempo'])/(thinkstats2.Std(new_track_df['danceability'])*thinkstats2.Std(new_track_df['tempo']))\n",
    "\n",
    "\n"
   ]
  },
  {
   "cell_type": "markdown",
   "metadata": {},
   "source": [
    "**Q4.2** Plot a scatterplot of the danceability of the tracks (on the x-axis) and their valence (on the y-axis), then calculate Pearson’s Correlation Coefficient. (**1 points**)"
   ]
  },
  {
   "cell_type": "code",
   "execution_count": 85,
   "metadata": {},
   "outputs": [
    {
     "data": {
      "text/plain": [
       "0.5163542935179823"
      ]
     },
     "execution_count": 85,
     "metadata": {},
     "output_type": "execute_result"
    },
    {
     "data": {
      "image/png": "[encoded data removed]",
      "text/plain": [
       "<Figure size 432x288 with 1 Axes>"
      ]
     },
     "metadata": {
      "needs_background": "light"
     },
     "output_type": "display_data"
    }
   ],
   "source": [
    "# your code\n",
    "new_track_df= track_df[track_df['danceability']!=0]\n",
    "plt.scatter(new_track_df['danceability'],new_track_df['valence'])\n",
    "\n",
    "thinkstats2.Cov(new_track_df['danceability'],new_track_df['valence'])/(thinkstats2.Std(new_track_df['danceability'])*thinkstats2.Std(new_track_df['valence']))\n",
    "\n",
    "\n"
   ]
  },
  {
   "cell_type": "markdown",
   "metadata": {},
   "source": [
    "**Q4.3** Plot a scatterplot of the danceability of the tracks (on the x-axis) and their loudness (on the y-axis), then calculate Pearson’s Correlation Coefficient. (**1 points**)"
   ]
  },
  {
   "cell_type": "code",
   "execution_count": 86,
   "metadata": {},
   "outputs": [
    {
     "data": {
      "text/plain": [
       "0.33414950788542824"
      ]
     },
     "execution_count": 86,
     "metadata": {},
     "output_type": "execute_result"
    },
    {
     "data": {
      "image/png": "[encoded data removed]",
      "text/plain": [
       "<Figure size 432x288 with 1 Axes>"
      ]
     },
     "metadata": {
      "needs_background": "light"
     },
     "output_type": "display_data"
    }
   ],
   "source": [
    "# your code\n",
    "\n",
    "new_track_df= track_df[track_df['danceability']!=0]\n",
    "plt.scatter(new_track_df['danceability'],new_track_df['loudness'])\n",
    "\n",
    "thinkstats2.Cov(new_track_df['danceability'],new_track_df['loudness'])/(thinkstats2.Std(new_track_df['danceability'])*thinkstats2.Std(new_track_df['loudness']))\n",
    "\n",
    "\n"
   ]
  },
  {
   "cell_type": "markdown",
   "metadata": {},
   "source": [
    "**Q4.4** From the above plots, what can you infer? Which feature of a track has the most influence on its danceability? (**1 point**)"
   ]
  },
  {
   "cell_type": "markdown",
   "metadata": {},
   "source": [
    "**Answer:** "
   ]
  },
  {
   "cell_type": "code",
   "execution_count": 87,
   "metadata": {},
   "outputs": [
    {
     "ename": "SyntaxError",
     "evalue": "invalid syntax (<ipython-input-87-9711efa29fe4>, line 1)",
     "output_type": "error",
     "traceback": [
      "\u001b[1;36m  File \u001b[1;32m\"<ipython-input-87-9711efa29fe4>\"\u001b[1;36m, line \u001b[1;32m1\u001b[0m\n\u001b[1;33m    It seems like loudness is the most influential factor. Tempo is also quite helpful and valence is quite useless for\u001b[0m\n\u001b[1;37m           ^\u001b[0m\n\u001b[1;31mSyntaxError\u001b[0m\u001b[1;31m:\u001b[0m invalid syntax\n"
     ]
    }
   ],
   "source": [
    "#It seems like loudness is the most influential factor. Tempo is also quite helpful and valence is quite useless for \n",
    "#predicting dancability."
   ]
  }
 ],
 "metadata": {
  "kernelspec": {
   "display_name": "Python 3",
   "language": "python",
   "name": "python3"
  },
  "language_info": {
   "codemirror_mode": {
    "name": "ipython",
    "version": 3
   },
   "file_extension": ".py",
   "mimetype": "text/x-python",
   "name": "python",
   "nbconvert_exporter": "python",
   "pygments_lexer": "ipython3",
   "version": "3.7.4"
  }
 },
 "nbformat": 4,
 "nbformat_minor": 2
}
