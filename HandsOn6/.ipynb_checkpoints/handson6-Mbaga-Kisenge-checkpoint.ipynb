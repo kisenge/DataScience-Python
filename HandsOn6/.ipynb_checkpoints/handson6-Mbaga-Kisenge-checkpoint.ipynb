{
 "cells": [
  {
   "cell_type": "markdown",
   "metadata": {},
   "source": [
    "# Hands-on 6\n",
    "\n",
    "### CS2545 - Data Science ###\n",
    "### Winter, 2023 ###\n",
    "### UNB, Fredericton ###\n",
    "\n",
    "Please complete the following and submit this notebook (filename: handson6-**lastname**-**firstname**.ipynb) to D2L by **11:59pm, Thu, April 6th 2023**.\n",
    "</br>\n",
    "</br>\n",
    "</br>"
   ]
  },
  {
   "cell_type": "markdown",
   "metadata": {},
   "source": [
    "**Q1.** Download *files.zip*  from D2L and unzip it. The data file *heartdev.csv* contains observations regarding several clinical features for predicting heart disease events. \n",
    "\n",
    "Note that the meaning of some of the column labels are specified below: <br>\n",
    "RestingBP - resting blood pressure <br>\n",
    "Cholesterol - serum cholesterol <br>\n",
    "FastingBS - fasting blood sugar <br>\n",
    "RestingECG - resting electrocardiogram results <br>\n",
    "MaxHR - maximum heart rate achieved <br>\n",
    "ExerciseAngina - exercise induced angina <br>\n",
    "ST_Slope - the slope of the peak exercise ST segment\n",
    "\n",
    "\n",
    "Filter out (i.e. remove) the records with cholesterol level 0 and then show the first 5 records. (**2 points**)"
   ]
  },
  {
   "cell_type": "code",
   "execution_count": 1,
   "metadata": {},
   "outputs": [
    {
     "name": "stdout",
     "output_type": "stream",
     "text": [
      "     Age Sex ChestPainType  RestingBP  Cholesterol  FastingBS RestingECG  \\\n",
      "0     40   M           ATA        140          289          0     Normal   \n",
      "1     49   F           NAP        160          180          0     Normal   \n",
      "2     37   M           ATA        130          283          0         ST   \n",
      "3     48   F           ASY        138          214          0     Normal   \n",
      "4     54   M           NAP        150          195          0     Normal   \n",
      "..   ...  ..           ...        ...          ...        ...        ...   \n",
      "913   45   M            TA        110          264          0     Normal   \n",
      "914   68   M           ASY        144          193          1     Normal   \n",
      "915   57   M           ASY        130          131          0     Normal   \n",
      "916   57   F           ATA        130          236          0        LVH   \n",
      "917   38   M           NAP        138          175          0     Normal   \n",
      "\n",
      "     MaxHR ExerciseAngina  Oldpeak ST_Slope  HeartDisease  \n",
      "0      172              N      0.0       Up             0  \n",
      "1      156              N      1.0     Flat             1  \n",
      "2       98              N      0.0       Up             0  \n",
      "3      108              Y      1.5     Flat             1  \n",
      "4      122              N      0.0       Up             0  \n",
      "..     ...            ...      ...      ...           ...  \n",
      "913    132              N      1.2     Flat             1  \n",
      "914    141              N      3.4     Flat             1  \n",
      "915    115              Y      1.2     Flat             1  \n",
      "916    174              N      0.0     Flat             1  \n",
      "917    173              N      0.0       Up             0  \n",
      "\n",
      "[918 rows x 12 columns]\n"
     ]
    },
    {
     "data": {
      "text/html": [
       "<div>\n",
       "<style scoped>\n",
       "    .dataframe tbody tr th:only-of-type {\n",
       "        vertical-align: middle;\n",
       "    }\n",
       "\n",
       "    .dataframe tbody tr th {\n",
       "        vertical-align: top;\n",
       "    }\n",
       "\n",
       "    .dataframe thead th {\n",
       "        text-align: right;\n",
       "    }\n",
       "</style>\n",
       "<table border=\"1\" class=\"dataframe\">\n",
       "  <thead>\n",
       "    <tr style=\"text-align: right;\">\n",
       "      <th></th>\n",
       "      <th>Age</th>\n",
       "      <th>Sex</th>\n",
       "      <th>ChestPainType</th>\n",
       "      <th>RestingBP</th>\n",
       "      <th>Cholesterol</th>\n",
       "      <th>FastingBS</th>\n",
       "      <th>RestingECG</th>\n",
       "      <th>MaxHR</th>\n",
       "      <th>ExerciseAngina</th>\n",
       "      <th>Oldpeak</th>\n",
       "      <th>ST_Slope</th>\n",
       "      <th>HeartDisease</th>\n",
       "    </tr>\n",
       "  </thead>\n",
       "  <tbody>\n",
       "    <tr>\n",
       "      <td>0</td>\n",
       "      <td>40</td>\n",
       "      <td>M</td>\n",
       "      <td>ATA</td>\n",
       "      <td>140</td>\n",
       "      <td>289</td>\n",
       "      <td>0</td>\n",
       "      <td>Normal</td>\n",
       "      <td>172</td>\n",
       "      <td>N</td>\n",
       "      <td>0.0</td>\n",
       "      <td>Up</td>\n",
       "      <td>0</td>\n",
       "    </tr>\n",
       "    <tr>\n",
       "      <td>1</td>\n",
       "      <td>49</td>\n",
       "      <td>F</td>\n",
       "      <td>NAP</td>\n",
       "      <td>160</td>\n",
       "      <td>180</td>\n",
       "      <td>0</td>\n",
       "      <td>Normal</td>\n",
       "      <td>156</td>\n",
       "      <td>N</td>\n",
       "      <td>1.0</td>\n",
       "      <td>Flat</td>\n",
       "      <td>1</td>\n",
       "    </tr>\n",
       "    <tr>\n",
       "      <td>2</td>\n",
       "      <td>37</td>\n",
       "      <td>M</td>\n",
       "      <td>ATA</td>\n",
       "      <td>130</td>\n",
       "      <td>283</td>\n",
       "      <td>0</td>\n",
       "      <td>ST</td>\n",
       "      <td>98</td>\n",
       "      <td>N</td>\n",
       "      <td>0.0</td>\n",
       "      <td>Up</td>\n",
       "      <td>0</td>\n",
       "    </tr>\n",
       "    <tr>\n",
       "      <td>3</td>\n",
       "      <td>48</td>\n",
       "      <td>F</td>\n",
       "      <td>ASY</td>\n",
       "      <td>138</td>\n",
       "      <td>214</td>\n",
       "      <td>0</td>\n",
       "      <td>Normal</td>\n",
       "      <td>108</td>\n",
       "      <td>Y</td>\n",
       "      <td>1.5</td>\n",
       "      <td>Flat</td>\n",
       "      <td>1</td>\n",
       "    </tr>\n",
       "    <tr>\n",
       "      <td>4</td>\n",
       "      <td>54</td>\n",
       "      <td>M</td>\n",
       "      <td>NAP</td>\n",
       "      <td>150</td>\n",
       "      <td>195</td>\n",
       "      <td>0</td>\n",
       "      <td>Normal</td>\n",
       "      <td>122</td>\n",
       "      <td>N</td>\n",
       "      <td>0.0</td>\n",
       "      <td>Up</td>\n",
       "      <td>0</td>\n",
       "    </tr>\n",
       "  </tbody>\n",
       "</table>\n",
       "</div>"
      ],
      "text/plain": [
       "   Age Sex ChestPainType  RestingBP  Cholesterol  FastingBS RestingECG  MaxHR  \\\n",
       "0   40   M           ATA        140          289          0     Normal    172   \n",
       "1   49   F           NAP        160          180          0     Normal    156   \n",
       "2   37   M           ATA        130          283          0         ST     98   \n",
       "3   48   F           ASY        138          214          0     Normal    108   \n",
       "4   54   M           NAP        150          195          0     Normal    122   \n",
       "\n",
       "  ExerciseAngina  Oldpeak ST_Slope  HeartDisease  \n",
       "0              N      0.0       Up             0  \n",
       "1              N      1.0     Flat             1  \n",
       "2              N      0.0       Up             0  \n",
       "3              Y      1.5     Flat             1  \n",
       "4              N      0.0       Up             0  "
      ]
     },
     "execution_count": 1,
     "metadata": {},
     "output_type": "execute_result"
    }
   ],
   "source": [
    "import thinkstats2\n",
    "import thinkplot\n",
    "import pandas as pd\n",
    "\n",
    "\n",
    "heart_df = pd.read_csv('heartdev.csv', delimiter=',')\n",
    "print(heart_df)\n",
    "#heart_df2= heart_df.loc['Cholesterol']==0\n",
    "heart_df2= heart_df[heart_df['Cholesterol'] != 0] \n",
    "\n",
    "heart_df2.head(5)\n",
    "\n",
    "# your code below\n",
    "\n"
   ]
  },
  {
   "cell_type": "markdown",
   "metadata": {},
   "source": [
    "**Q1.1**  Plot the Probability Mass Functions (PMF) of the cholesterol levels for both males and females who are **60 years or above**. So, there will be 2 PMF plots in a single figure corresponding to the males and females. (**4 points**)"
   ]
  },
  {
   "cell_type": "code",
   "execution_count": 7,
   "metadata": {},
   "outputs": [
    {
     "data": {
      "image/png": "[encoded data removed]",
      "text/plain": [
       "<Figure size 432x288 with 1 Axes>"
      ]
     },
     "metadata": {
      "needs_background": "light"
     },
     "output_type": "display_data"
    }
   ],
   "source": [
    "# your code below\n",
    "pplChol=  heart_df2[heart_df2['Age'] > 60] \n",
    "pplCholW=  pplChol[pplChol['Sex']=='F'] \n",
    "\n",
    "pplCholM=  pplChol[pplChol['Sex']=='M'] \n",
    "\n",
    "#pplCholM= \n",
    "#print(pplChol)\n",
    "\n",
    "cholLvlF=pplCholW['Cholesterol']\n",
    "cholLvlM=pplCholM['Cholesterol']\n",
    "#x=int(cholLvl)\n",
    "#print(cholLvl)\n",
    "\n",
    "\n",
    "\n",
    "pmfF=thinkstats2.Pmf(cholLvlF)\n",
    "pmfM=thinkstats2.Pmf(cholLvlM)\n",
    "\n",
    "thinkplot.Pmf(pmfF,color=\"red\")\n",
    "thinkplot.Pmf(pmfM)\n"
   ]
  },
  {
   "cell_type": "markdown",
   "metadata": {},
   "source": [
    "**Q1.2**  Plot the Cummulative Distribution Functions (CDF) of the cholesterol levels for both males and females who are **60 years or above**. So, there will be 2 CDF plots in a single figure corresponding to the males and females. (**4 points**)"
   ]
  },
  {
   "cell_type": "code",
   "execution_count": 8,
   "metadata": {},
   "outputs": [
    {
     "data": {
      "text/plain": [
       "{'xscale': 'linear', 'yscale': 'linear'}"
      ]
     },
     "execution_count": 8,
     "metadata": {},
     "output_type": "execute_result"
    },
    {
     "data": {
      "image/png": "[encoded data removed]",
      "text/plain": [
       "<Figure size 432x288 with 1 Axes>"
      ]
     },
     "metadata": {
      "needs_background": "light"
     },
     "output_type": "display_data"
    }
   ],
   "source": [
    "# your code below\n",
    "\n",
    "#cdfF=thinkstats2.Cdf(pplCholW.Cholesterol, label=\"F\")\n",
    "cdfF=thinkstats2.Cdf(pplCholW.Cholesterol)\n",
    "cdfM=thinkstats2.Cdf(pplCholM.Cholesterol)\n",
    "\n",
    "\n",
    "thinkplot.PrePlot(2)\n",
    "#thinkplot.Config(title=\"CDF of Cholesterol Lvls in PPl over 60\")\n",
    "#thinkplot.Cdfs([cdfF,cdfM])\n",
    "thinkplot.Cdf(cdfF,color='red')\n",
    "thinkplot.Cdf(cdfM)\n"
   ]
  },
  {
   "cell_type": "markdown",
   "metadata": {},
   "source": [
    "## **Q1.3** What do you conclude from Q1.1 and Q1.2? (**4 points**)\n"
   ]
  },
  {
   "cell_type": "code",
   "execution_count": null,
   "metadata": {},
   "outputs": [],
   "source": [
    "# your answer below\n",
    "\n",
    "I can conclude from the pmdf and cdf that woman tend to have higher\n",
    "cholestrol than men.\n"
   ]
  },
  {
   "cell_type": "markdown",
   "metadata": {},
   "source": [
    "**Q2.**  Plot a scatter plot of the **cholesterol level** (on x-axis) of people over 60 years of age regardless of the gender and their corresponding maximum heart rate, i.e., **MaxHR** (on y-axis). (**4 points**)\n",
    "\n",
    "\n",
    "Then calculate the Pearson’s Correlation Coefficient. Tips: https://pandas.pydata.org/docs/reference/api/pandas.DataFrame.corr.html\n",
    "(**2 points**)"
   ]
  },
  {
   "cell_type": "code",
   "execution_count": 14,
   "metadata": {},
   "outputs": [
    {
     "name": "stdout",
     "output_type": "stream",
     "text": [
      "                   Age  RestingBP  Cholesterol  FastingBS     MaxHR   Oldpeak  \\\n",
      "Age           1.000000   0.028344    -0.128249   0.139672 -0.129102 -0.015093   \n",
      "RestingBP     0.028344   1.000000    -0.033807   0.279504  0.052569  0.088283   \n",
      "Cholesterol  -0.128249  -0.033807     1.000000  -0.010095  0.200391 -0.068944   \n",
      "FastingBS     0.139672   0.279504    -0.010095   1.000000 -0.131136 -0.051008   \n",
      "MaxHR        -0.129102   0.052569     0.200391  -0.131136  1.000000 -0.075234   \n",
      "Oldpeak      -0.015093   0.088283    -0.068944  -0.051008 -0.075234  1.000000   \n",
      "HeartDisease  0.004359   0.075717    -0.090256   0.089550 -0.258817  0.391824   \n",
      "\n",
      "              HeartDisease  \n",
      "Age               0.004359  \n",
      "RestingBP         0.075717  \n",
      "Cholesterol      -0.090256  \n",
      "FastingBS         0.089550  \n",
      "MaxHR            -0.258817  \n",
      "Oldpeak           0.391824  \n",
      "HeartDisease      1.000000  \n"
     ]
    },
    {
     "data": {
      "image/png": "[encoded data removed]",
      "text/plain": [
       "<Figure size 432x288 with 1 Axes>"
      ]
     },
     "metadata": {
      "needs_background": "light"
     },
     "output_type": "display_data"
    }
   ],
   "source": [
    "# your code below\n",
    "cholLvlAll=pplChol['Cholesterol']\n",
    "hr=pplChol['MaxHR']\n",
    "thinkplot.Scatter(cholLvlAll,hr)\n",
    "\n",
    "correlation= pplChol.corr(method='pearson')\n",
    "print(correlation)"
   ]
  },
  {
   "cell_type": "code",
   "execution_count": null,
   "metadata": {},
   "outputs": [],
   "source": []
  }
 ],
 "metadata": {
  "anaconda-cloud": {},
  "kernelspec": {
   "display_name": "Python 3",
   "language": "python",
   "name": "python3"
  },
  "language_info": {
   "codemirror_mode": {
    "name": "ipython",
    "version": 3
   },
   "file_extension": ".py",
   "mimetype": "text/x-python",
   "name": "python",
   "nbconvert_exporter": "python",
   "pygments_lexer": "ipython3",
   "version": "3.7.4"
  }
 },
 "nbformat": 4,
 "nbformat_minor": 1
}
