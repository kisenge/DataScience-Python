{
 "cells": [
  {
   "cell_type": "markdown",
   "metadata": {},
   "source": [
    "# Introduction to Jupyter (IPython) Notebook\n",
    "**CS2545 - Data Science for Big Data Analytics**\n",
    "\n",
    "Francis Palma, UNB\n",
    "(Acknowledgement: Alfred Essa)\n",
    "\n",
    "\n",
    "Jupyter is a language-agnostic interactive development environment for scientific computing and data science.   \n",
    "\n",
    "Jupyter's kernel and messaging architecture now supports different programming languages, including Python, R, Julia and many others.\n",
    "The Jupyter Notebook has three components:\n",
    "\n",
    "\n",
    "* **Web application**. A web application for writing and running code interactively and authoring notebooks.\n",
    "* **Kernels**. Backend processes that run code in a specific language and return output back to the web application for display or further computation.\n",
    "* **Notebook documents**. Documents consisting of code, text annotations, images, and video. Each document is stored as a JSON file.\n",
    "\n",
    "\n",
    "## Architecture\n",
    "\n",
    "The Jupyter (IPython) Kernel is a separate process which is responsible for running user code, and things like computing possible completions. Frontends, like the notebook, communicate with the Kernel using JSON messages sent over ZeroMQ sockets\n",
    " \n",
    "<img src=\"http://www.cs.unb.ca/~sray/teaching/datascience/architecture.png\"/>"
   ]
  },
  {
   "cell_type": "markdown",
   "metadata": {
    "collapsed": true
   },
   "source": [
    "\n",
    "- Help\n",
    "- Tab Completion\n",
    "- Shell Commands\n",
    "- Magic Commands"
   ]
  },
  {
   "cell_type": "markdown",
   "metadata": {},
   "source": [
    "## Why should I learn Jupyter Notebook?\n",
    "\n",
    "### Reason 1\n",
    "\n",
    "It optimizes the workflow for data science. \n",
    "\n",
    "\n",
    "### Reason 2 \n",
    "The Jupyter environment is at the intersection of innovation in both the scientific computing and data science communities. By staying abreast of advances in Jupyter you will be able to leverage and incorporate innovations far more quickly in your own work."
   ]
  },
  {
   "cell_type": "markdown",
   "metadata": {},
   "source": [
    "### Help"
   ]
  },
  {
   "cell_type": "markdown",
   "metadata": {},
   "source": [
    "The main IPython help panel can be opened with a single **`?`**."
   ]
  },
  {
   "cell_type": "code",
   "execution_count": 4,
   "metadata": {},
   "outputs": [],
   "source": [
    "?"
   ]
  },
  {
   "cell_type": "markdown",
   "metadata": {},
   "source": [
    "Adding a **`?`** after an object name will show rich details about that object, including: docstrings, function signatures, and constructor details."
   ]
  },
  {
   "cell_type": "code",
   "execution_count": 5,
   "metadata": {},
   "outputs": [],
   "source": [
    "import pandas as pd\n"
   ]
  },
  {
   "cell_type": "code",
   "execution_count": null,
   "metadata": {},
   "outputs": [],
   "source": [
    "import pandas as pd"
   ]
  },
  {
   "cell_type": "code",
   "execution_count": 7,
   "metadata": {},
   "outputs": [],
   "source": [
    "pd.read_csv??"
   ]
  },
  {
   "cell_type": "markdown",
   "metadata": {},
   "source": [
    "Adding a **`??`** after an object name will show the full source code of that object, if it is available."
   ]
  },
  {
   "cell_type": "markdown",
   "metadata": {},
   "source": [
    "A quick reference card for IPython can also be opened at any time."
   ]
  },
  {
   "cell_type": "code",
   "execution_count": 8,
   "metadata": {},
   "outputs": [],
   "source": [
    "%quickref"
   ]
  },
  {
   "cell_type": "markdown",
   "metadata": {},
   "source": [
    "### Tab Completion"
   ]
  },
  {
   "cell_type": "markdown",
   "metadata": {},
   "source": [
    "Code cells support tab completion, which is a convenient way to explore the attribute structure of an object and the symbols available in the Python namespace. It can be triggered by partially typing an object name and then pressing **`<TAB>`**. It can also be used to complete file and directory names."
   ]
  },
  {
   "cell_type": "code",
   "execution_count": 15,
   "metadata": {},
   "outputs": [
    {
     "ename": "SyntaxError",
     "evalue": "invalid syntax (<ipython-input-15-bc888235687a>, line 1)",
     "output_type": "error",
     "traceback": [
      "\u001b[1;36m  File \u001b[1;32m\"<ipython-input-15-bc888235687a>\"\u001b[1;36m, line \u001b[1;32m1\u001b[0m\n\u001b[1;33m    pd.\u001b[0m\n\u001b[1;37m       ^\u001b[0m\n\u001b[1;31mSyntaxError\u001b[0m\u001b[1;31m:\u001b[0m invalid syntax\n"
     ]
    }
   ],
   "source": [
    "pd."
   ]
  },
  {
   "cell_type": "markdown",
   "metadata": {},
   "source": [
    "### Shell Commands"
   ]
  },
  {
   "cell_type": "markdown",
   "metadata": {},
   "source": [
    "It's also possible to execute commands directly on the underlying operating system. Expressions which are prefixed with a **`!`** are passed along to the system shell. This is typically Bash on Unix/Linux systems, and CMD.exe on Windows."
   ]
  },
  {
   "cell_type": "code",
   "execution_count": 9,
   "metadata": {},
   "outputs": [
    {
     "name": "stdout",
     "output_type": "stream",
     "text": [
      " Volume in drive C has no label.\n",
      " Volume Serial Number is 643D-BFC4\n",
      "\n",
      " Directory of C:\\_work\\_Teaching\\CS2545_DataScienceForBigDataAnalysis\\Fall2021\\Code\\Handson\\Handson1\n",
      "\n",
      "09/17/2021  12:58 PM    <DIR>          .\n",
      "09/17/2021  12:58 PM    <DIR>          ..\n",
      "09/16/2021  07:30 PM    <DIR>          .ipynb_checkpoints\n",
      "09/16/2021  04:55 PM    <DIR>          2018\n",
      "09/16/2021  06:18 PM    <DIR>          2020\n",
      "09/17/2021  12:04 PM             4,554 Handson1_F2021.ipynb\n",
      "09/17/2021  12:58 PM            20,196 IntroductionToJupyterNotebook.ipynb\n",
      "09/17/2021  09:25 AM    <DIR>          soln\n",
      "09/17/2021  12:05 PM    <DIR>          tmp\n",
      "               2 File(s)         24,750 bytes\n",
      "               7 Dir(s)  54,453,563,392 bytes free\n"
     ]
    }
   ],
   "source": [
    "!dir"
   ]
  },
  {
   "cell_type": "markdown",
   "metadata": {},
   "source": [
    "# hello world"
   ]
  },
  {
   "cell_type": "code",
   "execution_count": 18,
   "metadata": {},
   "outputs": [
    {
     "name": "stdout",
     "output_type": "stream",
     "text": [
      "hello world CS2545 class\n"
     ]
    }
   ],
   "source": [
    "i = \"CS2545 class\"\n",
    "print (\"hello world\", i)"
   ]
  },
  {
   "cell_type": "code",
   "execution_count": 3,
   "metadata": {},
   "outputs": [
    {
     "name": "stdout",
     "output_type": "stream",
     "text": [
      "hello world CS2545 class\n"
     ]
    }
   ],
   "source": [
    "i = \"CS2545 class\"\n",
    "print (\"hello world\", i)\n"
   ]
  },
  {
   "cell_type": "code",
   "execution_count": 10,
   "metadata": {},
   "outputs": [
    {
     "name": "stderr",
     "output_type": "stream",
     "text": [
      "'ls' is not recognized as an internal or external command,\n",
      "operable program or batch file.\n"
     ]
    }
   ],
   "source": [
    "!ls"
   ]
  },
  {
   "cell_type": "markdown",
   "metadata": {},
   "source": [
    "The output of the shell command can be stored as a Python variable. The command output is split on newlines and returned as a Python list of strings."
   ]
  },
  {
   "cell_type": "code",
   "execution_count": 11,
   "metadata": {},
   "outputs": [
    {
     "name": "stdout",
     "output_type": "stream",
     "text": [
      "My current directory's files:\n",
      "[' Volume in drive C has no label.', ' Volume Serial Number is 643D-BFC4', '', ' Directory of C:\\\\_work\\\\_Teaching\\\\CS2545_DataScienceForBigDataAnalysis\\\\Fall2019\\\\Code\\\\Handson\\\\Handson1', '', '09/13/2019  12:42 PM    <DIR>          .', '09/13/2019  12:42 PM    <DIR>          ..', '09/12/2019  03:10 PM    <DIR>          .ipynb_checkpoints', '09/16/2016  03:29 PM            30,974 architecture.png', '09/16/2016  03:19 PM           101,277 cat.png', '09/15/2017  11:37 AM            42,297 D2L.png', '08/25/2019  03:59 PM             1,206 flower.py', '09/13/2019  12:20 PM             4,111 Handson1_F2019.ipynb', '08/22/2019  05:59 PM    <DIR>          images', '09/13/2019  12:42 PM            12,164 IntroductionToJupyterNotebook.ipynb', '09/14/2017  06:51 PM            17,288 Notebook_tutorial.ipynb', '08/25/2019  03:59 PM             1,396 pie.py', '08/25/2019  03:59 PM             2,012 polygon.py', '08/25/2019  05:00 PM             2,915 polygon.pyc', '09/13/2019  02:28 PM             1,033 README.txt', '09/12/2019  03:10 PM    <DIR>          soln', '              11 File(s)        216,673 bytes', '               5 Dir(s)  201,530,834,944 bytes free']\n"
     ]
    }
   ],
   "source": [
    "files = !dir\n",
    "print(\"My current directory's files:\")\n",
    "print(files)"
   ]
  },
  {
   "cell_type": "markdown",
   "metadata": {},
   "source": [
    "## Magic Commands"
   ]
  },
  {
   "cell_type": "markdown",
   "metadata": {},
   "source": [
    "The IPython 'magic' functions are a set of commands, invoked by prepending one or two **`%`** signs to their name.  \n",
    "\n",
    "Magics invoked with a single `%` are \"line magics\" and act on the rest of the line.  Magics invoked with `%%` are \"cell magics\" and act on the rest of the cell."
   ]
  },
  {
   "cell_type": "code",
   "execution_count": 10,
   "metadata": {},
   "outputs": [
    {
     "name": "stdout",
     "output_type": "stream",
     "text": [
      "print (\"hello world\")\n",
      "i = \"CS2545 class\"\n",
      "print (\"hello world\" + i)\n",
      "i = \"CS2545 class\"\n",
      "print (\"hello world\", i)\n",
      "?\n",
      "import pandas as pd\n",
      "pd.read_csv??\n",
      "pd.read_csv??\n",
      "%quickref\n",
      "!dir\n",
      "%hist\n"
     ]
    }
   ],
   "source": [
    "%hist"
   ]
  },
  {
   "cell_type": "markdown",
   "metadata": {},
   "source": [
    "Show documentation for the magic system."
   ]
  },
  {
   "cell_type": "code",
   "execution_count": 11,
   "metadata": {},
   "outputs": [],
   "source": [
    "%magic"
   ]
  },
  {
   "cell_type": "markdown",
   "metadata": {},
   "source": [
    "Use the `timeit` magic for timing snippets of code."
   ]
  },
  {
   "cell_type": "code",
   "execution_count": 12,
   "metadata": {},
   "outputs": [
    {
     "name": "stdout",
     "output_type": "stream",
     "text": [
      "1000000 loops, best of 3: 453 ns per loop\n"
     ]
    }
   ],
   "source": [
    "%timeit range(10)"
   ]
  },
  {
   "cell_type": "code",
   "execution_count": 13,
   "metadata": {},
   "outputs": [
    {
     "name": "stdout",
     "output_type": "stream",
     "text": [
      "1000000 loops, best of 3: 1.96 µs per loop\n"
     ]
    }
   ],
   "source": [
    "%%timeit\n",
    "range(10)\n",
    "range(100)"
   ]
  },
  {
   "cell_type": "markdown",
   "metadata": {},
   "source": [
    "Show all magic commands available for the system."
   ]
  },
  {
   "cell_type": "code",
   "execution_count": 14,
   "metadata": {},
   "outputs": [
    {
     "data": {
      "application/json": {
       "cell": {
        "!": "OSMagics",
        "HTML": "Other",
        "SVG": "Other",
        "bash": "Other",
        "capture": "ExecutionMagics",
        "cmd": "Other",
        "debug": "ExecutionMagics",
        "file": "Other",
        "html": "DisplayMagics",
        "javascript": "DisplayMagics",
        "js": "DisplayMagics",
        "latex": "DisplayMagics",
        "perl": "Other",
        "prun": "ExecutionMagics",
        "pypy": "Other",
        "python": "Other",
        "python2": "Other",
        "python3": "Other",
        "ruby": "Other",
        "script": "ScriptMagics",
        "sh": "Other",
        "svg": "DisplayMagics",
        "sx": "OSMagics",
        "system": "OSMagics",
        "time": "ExecutionMagics",
        "timeit": "ExecutionMagics",
        "writefile": "OSMagics"
       },
       "line": {
        "alias": "OSMagics",
        "alias_magic": "BasicMagics",
        "autocall": "AutoMagics",
        "automagic": "AutoMagics",
        "autosave": "KernelMagics",
        "bookmark": "OSMagics",
        "cd": "OSMagics",
        "clear": "KernelMagics",
        "cls": "KernelMagics",
        "colors": "BasicMagics",
        "config": "ConfigMagics",
        "connect_info": "KernelMagics",
        "copy": "Other",
        "ddir": "Other",
        "debug": "ExecutionMagics",
        "dhist": "OSMagics",
        "dirs": "OSMagics",
        "doctest_mode": "BasicMagics",
        "echo": "Other",
        "ed": "Other",
        "edit": "KernelMagics",
        "env": "OSMagics",
        "gui": "BasicMagics",
        "hist": "Other",
        "history": "HistoryMagics",
        "killbgscripts": "ScriptMagics",
        "ldir": "Other",
        "less": "KernelMagics",
        "load": "CodeMagics",
        "load_ext": "ExtensionMagics",
        "loadpy": "CodeMagics",
        "logoff": "LoggingMagics",
        "logon": "LoggingMagics",
        "logstart": "LoggingMagics",
        "logstate": "LoggingMagics",
        "logstop": "LoggingMagics",
        "ls": "Other",
        "lsmagic": "BasicMagics",
        "macro": "ExecutionMagics",
        "magic": "BasicMagics",
        "matplotlib": "PylabMagics",
        "mkdir": "Other",
        "more": "KernelMagics",
        "notebook": "BasicMagics",
        "page": "BasicMagics",
        "pastebin": "CodeMagics",
        "pdb": "ExecutionMagics",
        "pdef": "NamespaceMagics",
        "pdoc": "NamespaceMagics",
        "pfile": "NamespaceMagics",
        "pinfo": "NamespaceMagics",
        "pinfo2": "NamespaceMagics",
        "popd": "OSMagics",
        "pprint": "BasicMagics",
        "precision": "BasicMagics",
        "profile": "BasicMagics",
        "prun": "ExecutionMagics",
        "psearch": "NamespaceMagics",
        "psource": "NamespaceMagics",
        "pushd": "OSMagics",
        "pwd": "OSMagics",
        "pycat": "OSMagics",
        "pylab": "PylabMagics",
        "qtconsole": "KernelMagics",
        "quickref": "BasicMagics",
        "recall": "HistoryMagics",
        "rehashx": "OSMagics",
        "reload_ext": "ExtensionMagics",
        "ren": "Other",
        "rep": "Other",
        "rerun": "HistoryMagics",
        "reset": "NamespaceMagics",
        "reset_selective": "NamespaceMagics",
        "rmdir": "Other",
        "run": "ExecutionMagics",
        "save": "CodeMagics",
        "sc": "OSMagics",
        "set_env": "OSMagics",
        "store": "StoreMagics",
        "sx": "OSMagics",
        "system": "OSMagics",
        "tb": "ExecutionMagics",
        "time": "ExecutionMagics",
        "timeit": "ExecutionMagics",
        "unalias": "OSMagics",
        "unload_ext": "ExtensionMagics",
        "who": "NamespaceMagics",
        "who_ls": "NamespaceMagics",
        "whos": "NamespaceMagics",
        "xdel": "NamespaceMagics",
        "xmode": "BasicMagics"
       }
      },
      "text/plain": [
       "Available line magics:\n",
       "%alias  %alias_magic  %autocall  %automagic  %autosave  %bookmark  %cd  %clear  %cls  %colors  %config  %connect_info  %copy  %ddir  %debug  %dhist  %dirs  %doctest_mode  %echo  %ed  %edit  %env  %gui  %hist  %history  %killbgscripts  %ldir  %less  %load  %load_ext  %loadpy  %logoff  %logon  %logstart  %logstate  %logstop  %ls  %lsmagic  %macro  %magic  %matplotlib  %mkdir  %more  %notebook  %page  %pastebin  %pdb  %pdef  %pdoc  %pfile  %pinfo  %pinfo2  %popd  %pprint  %precision  %profile  %prun  %psearch  %psource  %pushd  %pwd  %pycat  %pylab  %qtconsole  %quickref  %recall  %rehashx  %reload_ext  %ren  %rep  %rerun  %reset  %reset_selective  %rmdir  %run  %save  %sc  %set_env  %store  %sx  %system  %tb  %time  %timeit  %unalias  %unload_ext  %who  %who_ls  %whos  %xdel  %xmode\n",
       "\n",
       "Available cell magics:\n",
       "%%!  %%HTML  %%SVG  %%bash  %%capture  %%cmd  %%debug  %%file  %%html  %%javascript  %%js  %%latex  %%perl  %%prun  %%pypy  %%python  %%python2  %%python3  %%ruby  %%script  %%sh  %%svg  %%sx  %%system  %%time  %%timeit  %%writefile\n",
       "\n",
       "Automagic is ON, % prefix IS NOT needed for line magics."
      ]
     },
     "execution_count": 14,
     "metadata": {},
     "output_type": "execute_result"
    }
   ],
   "source": [
    "%lsmagic"
   ]
  },
  {
   "cell_type": "markdown",
   "metadata": {
    "collapsed": true
   },
   "source": [
    "## Jupyter Notebook\n",
    "---\n",
    "\n",
    "A new notebook can be created from the dashboard by clicking on the Files tab, followed by the **`New dropdown`** button, and then selecting the language of choice for the notebook.\n",
    "\n",
    "\n",
    "### Header\n",
    "\n",
    "At the top of the notebook document is a header which contains the notebook title, a menubar, and toolbar. This header remains fixed at the top of the screen, even as the body of the notebook is scrolled. The title can be edited in-place (which renames the notebook file), and the menubar and toolbar contain a variety of actions which control notebook navigation and document structure.\n",
    "\n",
    "\n",
    "### Body\n",
    "\n",
    "The body of a notebook is composed of cells. Each cell contains either markdown, code input/output, or raw text. Cells can be included in any order and edited at-will, allowing for a large amount of flexibility for constructing a narrative.\n",
    "\n",
    "- **Markdown cells** - These are used to build a nicely formatted narrative around the code in the document. The majority of this lesson is composed of markdown cells.\n",
    "\n",
    "- **Code cells** - These are used to define the computational code in the document. They have two parts: the *input* editor where the user types the code to be executed, and the *output* region which is the representation of the executed code. Depending on the code, this representation may be a simple scalar value, or something more complex like a plot or an interactive widget.\n",
    "\n",
    "- **Raw cells** - These are used when text needs to be included in raw form, without execution or transformation."
   ]
  },
  {
   "cell_type": "markdown",
   "metadata": {},
   "source": [
    "### Running Code\n",
    "\n",
    "Run a code cell using **`Shift-Enter`** or pressing the <button class='btn btn-default btn-xs'><i class=\"fa fa-step-forward\"></i></button> button in the toolbar above. This executes the cell and puts the cursor in the next cell below, or makes a new cell if the cursor is at the end.  Alternatively:\n",
    "\n",
    "- **`Alt-Enter`** - force the creation of a new cell unconditionally (useful when inserting new content in the middle of an existing notebook).\n",
    "- **`Ctrl-Enter`** - execute the cell and keep the cursor in the same cell (useful for quick experimentation of snippets that don't need to be kept permanently)."
   ]
  },
  {
   "cell_type": "markdown",
   "metadata": {},
   "source": [
    "### Markdown\n",
    "\n",
    "\n",
    "Rich text can added to notebook cells using Markdown - a popular plain text formatting syntax. This allows for authoring rich narratives to support the code in a notebook document.\n",
    "\n",
    "*italic text*\n",
    "\n",
    "\n",
    "**bold text**\n",
    "\n",
    "\n",
    "Ordered List:\n",
    "\n",
    "1. First\n",
    "2. Second\n",
    "3. Third\n",
    "\n",
    "\n",
    "Unordered List:\n",
    "* One\n",
    "  - table\n",
    "  - chair\n",
    "* Two\n",
    "  - cat\n",
    "* Three\n",
    "  - dog\n",
    "  \n",
    "Embedded image: <img src=\"http://www.cs.unb.ca/~sray/teaching/datascience/cat.png\" />\n",
    "\n",
    "Embedded Code:\n",
    "\n",
    "```python\n",
    "def f(x):\n",
    "    \"\"\"a docstring\"\"\"\n",
    "    return x**2\n",
    "```"
   ]
  },
  {
   "cell_type": "code",
   "execution_count": 14,
   "metadata": {},
   "outputs": [
    {
     "name": "stdout",
     "output_type": "stream",
     "text": [
      "hello\n"
     ]
    }
   ],
   "source": [
    "print (\"hello\")"
   ]
  }
 ],
 "metadata": {
  "anaconda-cloud": {},
  "kernelspec": {
   "display_name": "Python 3",
   "language": "python",
   "name": "python3"
  },
  "language_info": {
   "codemirror_mode": {
    "name": "ipython",
    "version": 3
   },
   "file_extension": ".py",
   "mimetype": "text/x-python",
   "name": "python",
   "nbconvert_exporter": "python",
   "pygments_lexer": "ipython3",
   "version": "3.7.4"
  }
 },
 "nbformat": 4,
 "nbformat_minor": 1
}
